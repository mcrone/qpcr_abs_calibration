{
 "cells": [
  {
   "cell_type": "code",
   "execution_count": 37,
   "metadata": {},
   "outputs": [
    {
     "name": "stdout",
     "output_type": "stream",
     "text": [
      "     Name  Target 1 Ct       IU\n",
      "0   95500        21.92  95500.0\n",
      "1   95500        22.08  95500.0\n",
      "2   95500        22.09  95500.0\n",
      "3    9550        25.28   9550.0\n",
      "4    9550        25.45   9550.0\n",
      "5    9550        25.40   9550.0\n",
      "6     995        28.73    995.0\n",
      "7     995        28.70    995.0\n",
      "8     995        28.85    995.0\n",
      "9    99.5        32.09     99.5\n",
      "10   99.5        31.86     99.5\n",
      "11   99.5        31.88     99.5\n"
     ]
    }
   ],
   "source": [
    "import pandas as pd\n",
    "import numpy as np\n",
    "\n",
    "filename = 'InternationalStandards.csv'\n",
    "\n",
    "\n",
    "dfdatafile = pd.read_csv(filename, usecols=['Name','ActualIU', 'Target 1 Ct'])\n",
    "\n",
    "# Assign the data to two dataframes, one (dfstandards) which has all the values of the standard curve and another which has the Ct values of the unknown sample\n",
    "dfdatafile.rename(columns = {\"ActualIU\": \"IU\"}, inplace=True)\n",
    "dfstandards = dfdatafile.loc[(dfdatafile['Name'].str.contains(\"VLP\") == False)& (dfdatafile['Name'].str.contains(\"Blank\") == False)].copy()\n",
    "dfstandards['IU'] = dfstandards['IU'].astype('float')\n",
    "dfstandards['Target 1 Ct'] = dfstandards['Target 1 Ct'].astype('float')\n",
    "dfvlp = dfdatafile.loc[dfdatafile['Name'].str.contains(\"VLP\")].copy()\n",
    "dfvlp['Target 1 Ct'] = dfvlp['Target 1 Ct'].astype('float')\n",
    "\n",
    "print(dfstandards)"
   ]
  },
  {
   "cell_type": "code",
   "execution_count": 38,
   "metadata": {},
   "outputs": [
    {
     "name": "stdout",
     "output_type": "stream",
     "text": [
      "                            OLS Regression Results                            \n",
      "==============================================================================\n",
      "Dep. Variable:            Target 1 Ct   R-squared:                       0.999\n",
      "Model:                            OLS   Adj. R-squared:                  0.999\n",
      "Method:                 Least Squares   F-statistic:                 1.400e+04\n",
      "Date:                Sun, 04 Sep 2022   Prob (F-statistic):           4.55e-17\n",
      "Time:                        19:35:50   Log-Likelihood:                 10.730\n",
      "No. Observations:                  12   AIC:                            -17.46\n",
      "Df Residuals:                      10   BIC:                            -16.49\n",
      "Df Model:                           1                                         \n",
      "Covariance Type:            nonrobust                                         \n",
      "==============================================================================\n",
      "                 coef    std err          t      P>|t|      [0.025      0.975]\n",
      "------------------------------------------------------------------------------\n",
      "const         38.6665      0.103    374.643      0.000      38.436      38.896\n",
      "IU            -3.3360      0.028   -118.341      0.000      -3.399      -3.273\n",
      "==============================================================================\n",
      "Omnibus:                        0.412   Durbin-Watson:                   1.423\n",
      "Prob(Omnibus):                  0.814   Jarque-Bera (JB):                0.486\n",
      "Skew:                          -0.067   Prob(JB):                        0.784\n",
      "Kurtosis:                       2.023   Cond. No.                         12.9\n",
      "==============================================================================\n",
      "\n",
      "Notes:\n",
      "[1] Standard Errors assume that the covariance matrix of the errors is correctly specified.\n"
     ]
    },
    {
     "name": "stderr",
     "output_type": "stream",
     "text": [
      "/usr/local/lib/python3.9/site-packages/scipy/stats/_stats_py.py:1477: UserWarning:\n",
      "\n",
      "kurtosistest only valid for n>=20 ... continuing anyway, n=12\n",
      "\n"
     ]
    }
   ],
   "source": [
    "import statsmodels.api as sm\n",
    "\n",
    "# Fit regression model (using the natural log of one of the regressors)\n",
    "X = sm.add_constant(np.log10(dfstandards['IU']))\n",
    "regmodel = sm.OLS(dfstandards['Target 1 Ct'], X).fit()\n",
    "\n",
    "# Display results of the regression model with the slope, intercept and R-squared\n",
    "summary = regmodel.summary()\n",
    "print(summary)\n"
   ]
  },
  {
   "cell_type": "code",
   "execution_count": 58,
   "metadata": {},
   "outputs": [
    {
     "data": {
      "application/vnd.plotly.v1+json": {
       "config": {
        "plotlyServerURL": "https://plot.ly"
       },
       "data": [
        {
         "marker": {
          "color": "rgba(0,0,0,1)"
         },
         "mode": "markers",
         "name": "Ct",
         "type": "scatter",
         "x": [
          95500,
          95500,
          95500,
          9550,
          9550,
          9550,
          995,
          995,
          995,
          99.5,
          99.5,
          99.5
         ],
         "y": [
          -0.1332468165922016,
          0.026753183407794978,
          0.03675318340779654,
          -0.1092310283381579,
          0.060768971661840254,
          0.010768971661839544,
          0.06423102833815264,
          0.034231028338151503,
          0.18423102833815364,
          0.08824681659219635,
          -0.14175318340780763,
          -0.12175318340780805
         ]
        }
       ],
       "layout": {
        "autosize": false,
        "font": {
         "family": "Roboto"
        },
        "height": 375,
        "margin": {
         "b": 100,
         "l": 100,
         "r": 40,
         "t": 40
        },
        "paper_bgcolor": "rgba(255,255,255,1)",
        "plot_bgcolor": "rgba(255,255,255,1)",
        "showlegend": false,
        "template": {
         "data": {
          "bar": [
           {
            "error_x": {
             "color": "#2a3f5f"
            },
            "error_y": {
             "color": "#2a3f5f"
            },
            "marker": {
             "line": {
              "color": "#E5ECF6",
              "width": 0.5
             },
             "pattern": {
              "fillmode": "overlay",
              "size": 10,
              "solidity": 0.2
             }
            },
            "type": "bar"
           }
          ],
          "barpolar": [
           {
            "marker": {
             "line": {
              "color": "#E5ECF6",
              "width": 0.5
             },
             "pattern": {
              "fillmode": "overlay",
              "size": 10,
              "solidity": 0.2
             }
            },
            "type": "barpolar"
           }
          ],
          "carpet": [
           {
            "aaxis": {
             "endlinecolor": "#2a3f5f",
             "gridcolor": "white",
             "linecolor": "white",
             "minorgridcolor": "white",
             "startlinecolor": "#2a3f5f"
            },
            "baxis": {
             "endlinecolor": "#2a3f5f",
             "gridcolor": "white",
             "linecolor": "white",
             "minorgridcolor": "white",
             "startlinecolor": "#2a3f5f"
            },
            "type": "carpet"
           }
          ],
          "choropleth": [
           {
            "colorbar": {
             "outlinewidth": 0,
             "ticks": ""
            },
            "type": "choropleth"
           }
          ],
          "contour": [
           {
            "colorbar": {
             "outlinewidth": 0,
             "ticks": ""
            },
            "colorscale": [
             [
              0,
              "#0d0887"
             ],
             [
              0.1111111111111111,
              "#46039f"
             ],
             [
              0.2222222222222222,
              "#7201a8"
             ],
             [
              0.3333333333333333,
              "#9c179e"
             ],
             [
              0.4444444444444444,
              "#bd3786"
             ],
             [
              0.5555555555555556,
              "#d8576b"
             ],
             [
              0.6666666666666666,
              "#ed7953"
             ],
             [
              0.7777777777777778,
              "#fb9f3a"
             ],
             [
              0.8888888888888888,
              "#fdca26"
             ],
             [
              1,
              "#f0f921"
             ]
            ],
            "type": "contour"
           }
          ],
          "contourcarpet": [
           {
            "colorbar": {
             "outlinewidth": 0,
             "ticks": ""
            },
            "type": "contourcarpet"
           }
          ],
          "heatmap": [
           {
            "colorbar": {
             "outlinewidth": 0,
             "ticks": ""
            },
            "colorscale": [
             [
              0,
              "#0d0887"
             ],
             [
              0.1111111111111111,
              "#46039f"
             ],
             [
              0.2222222222222222,
              "#7201a8"
             ],
             [
              0.3333333333333333,
              "#9c179e"
             ],
             [
              0.4444444444444444,
              "#bd3786"
             ],
             [
              0.5555555555555556,
              "#d8576b"
             ],
             [
              0.6666666666666666,
              "#ed7953"
             ],
             [
              0.7777777777777778,
              "#fb9f3a"
             ],
             [
              0.8888888888888888,
              "#fdca26"
             ],
             [
              1,
              "#f0f921"
             ]
            ],
            "type": "heatmap"
           }
          ],
          "heatmapgl": [
           {
            "colorbar": {
             "outlinewidth": 0,
             "ticks": ""
            },
            "colorscale": [
             [
              0,
              "#0d0887"
             ],
             [
              0.1111111111111111,
              "#46039f"
             ],
             [
              0.2222222222222222,
              "#7201a8"
             ],
             [
              0.3333333333333333,
              "#9c179e"
             ],
             [
              0.4444444444444444,
              "#bd3786"
             ],
             [
              0.5555555555555556,
              "#d8576b"
             ],
             [
              0.6666666666666666,
              "#ed7953"
             ],
             [
              0.7777777777777778,
              "#fb9f3a"
             ],
             [
              0.8888888888888888,
              "#fdca26"
             ],
             [
              1,
              "#f0f921"
             ]
            ],
            "type": "heatmapgl"
           }
          ],
          "histogram": [
           {
            "marker": {
             "pattern": {
              "fillmode": "overlay",
              "size": 10,
              "solidity": 0.2
             }
            },
            "type": "histogram"
           }
          ],
          "histogram2d": [
           {
            "colorbar": {
             "outlinewidth": 0,
             "ticks": ""
            },
            "colorscale": [
             [
              0,
              "#0d0887"
             ],
             [
              0.1111111111111111,
              "#46039f"
             ],
             [
              0.2222222222222222,
              "#7201a8"
             ],
             [
              0.3333333333333333,
              "#9c179e"
             ],
             [
              0.4444444444444444,
              "#bd3786"
             ],
             [
              0.5555555555555556,
              "#d8576b"
             ],
             [
              0.6666666666666666,
              "#ed7953"
             ],
             [
              0.7777777777777778,
              "#fb9f3a"
             ],
             [
              0.8888888888888888,
              "#fdca26"
             ],
             [
              1,
              "#f0f921"
             ]
            ],
            "type": "histogram2d"
           }
          ],
          "histogram2dcontour": [
           {
            "colorbar": {
             "outlinewidth": 0,
             "ticks": ""
            },
            "colorscale": [
             [
              0,
              "#0d0887"
             ],
             [
              0.1111111111111111,
              "#46039f"
             ],
             [
              0.2222222222222222,
              "#7201a8"
             ],
             [
              0.3333333333333333,
              "#9c179e"
             ],
             [
              0.4444444444444444,
              "#bd3786"
             ],
             [
              0.5555555555555556,
              "#d8576b"
             ],
             [
              0.6666666666666666,
              "#ed7953"
             ],
             [
              0.7777777777777778,
              "#fb9f3a"
             ],
             [
              0.8888888888888888,
              "#fdca26"
             ],
             [
              1,
              "#f0f921"
             ]
            ],
            "type": "histogram2dcontour"
           }
          ],
          "mesh3d": [
           {
            "colorbar": {
             "outlinewidth": 0,
             "ticks": ""
            },
            "type": "mesh3d"
           }
          ],
          "parcoords": [
           {
            "line": {
             "colorbar": {
              "outlinewidth": 0,
              "ticks": ""
             }
            },
            "type": "parcoords"
           }
          ],
          "pie": [
           {
            "automargin": true,
            "type": "pie"
           }
          ],
          "scatter": [
           {
            "marker": {
             "colorbar": {
              "outlinewidth": 0,
              "ticks": ""
             }
            },
            "type": "scatter"
           }
          ],
          "scatter3d": [
           {
            "line": {
             "colorbar": {
              "outlinewidth": 0,
              "ticks": ""
             }
            },
            "marker": {
             "colorbar": {
              "outlinewidth": 0,
              "ticks": ""
             }
            },
            "type": "scatter3d"
           }
          ],
          "scattercarpet": [
           {
            "marker": {
             "colorbar": {
              "outlinewidth": 0,
              "ticks": ""
             }
            },
            "type": "scattercarpet"
           }
          ],
          "scattergeo": [
           {
            "marker": {
             "colorbar": {
              "outlinewidth": 0,
              "ticks": ""
             }
            },
            "type": "scattergeo"
           }
          ],
          "scattergl": [
           {
            "marker": {
             "colorbar": {
              "outlinewidth": 0,
              "ticks": ""
             }
            },
            "type": "scattergl"
           }
          ],
          "scattermapbox": [
           {
            "marker": {
             "colorbar": {
              "outlinewidth": 0,
              "ticks": ""
             }
            },
            "type": "scattermapbox"
           }
          ],
          "scatterpolar": [
           {
            "marker": {
             "colorbar": {
              "outlinewidth": 0,
              "ticks": ""
             }
            },
            "type": "scatterpolar"
           }
          ],
          "scatterpolargl": [
           {
            "marker": {
             "colorbar": {
              "outlinewidth": 0,
              "ticks": ""
             }
            },
            "type": "scatterpolargl"
           }
          ],
          "scatterternary": [
           {
            "marker": {
             "colorbar": {
              "outlinewidth": 0,
              "ticks": ""
             }
            },
            "type": "scatterternary"
           }
          ],
          "surface": [
           {
            "colorbar": {
             "outlinewidth": 0,
             "ticks": ""
            },
            "colorscale": [
             [
              0,
              "#0d0887"
             ],
             [
              0.1111111111111111,
              "#46039f"
             ],
             [
              0.2222222222222222,
              "#7201a8"
             ],
             [
              0.3333333333333333,
              "#9c179e"
             ],
             [
              0.4444444444444444,
              "#bd3786"
             ],
             [
              0.5555555555555556,
              "#d8576b"
             ],
             [
              0.6666666666666666,
              "#ed7953"
             ],
             [
              0.7777777777777778,
              "#fb9f3a"
             ],
             [
              0.8888888888888888,
              "#fdca26"
             ],
             [
              1,
              "#f0f921"
             ]
            ],
            "type": "surface"
           }
          ],
          "table": [
           {
            "cells": {
             "fill": {
              "color": "#EBF0F8"
             },
             "line": {
              "color": "white"
             }
            },
            "header": {
             "fill": {
              "color": "#C8D4E3"
             },
             "line": {
              "color": "white"
             }
            },
            "type": "table"
           }
          ]
         },
         "layout": {
          "annotationdefaults": {
           "arrowcolor": "#2a3f5f",
           "arrowhead": 0,
           "arrowwidth": 1
          },
          "autotypenumbers": "strict",
          "coloraxis": {
           "colorbar": {
            "outlinewidth": 0,
            "ticks": ""
           }
          },
          "colorscale": {
           "diverging": [
            [
             0,
             "#8e0152"
            ],
            [
             0.1,
             "#c51b7d"
            ],
            [
             0.2,
             "#de77ae"
            ],
            [
             0.3,
             "#f1b6da"
            ],
            [
             0.4,
             "#fde0ef"
            ],
            [
             0.5,
             "#f7f7f7"
            ],
            [
             0.6,
             "#e6f5d0"
            ],
            [
             0.7,
             "#b8e186"
            ],
            [
             0.8,
             "#7fbc41"
            ],
            [
             0.9,
             "#4d9221"
            ],
            [
             1,
             "#276419"
            ]
           ],
           "sequential": [
            [
             0,
             "#0d0887"
            ],
            [
             0.1111111111111111,
             "#46039f"
            ],
            [
             0.2222222222222222,
             "#7201a8"
            ],
            [
             0.3333333333333333,
             "#9c179e"
            ],
            [
             0.4444444444444444,
             "#bd3786"
            ],
            [
             0.5555555555555556,
             "#d8576b"
            ],
            [
             0.6666666666666666,
             "#ed7953"
            ],
            [
             0.7777777777777778,
             "#fb9f3a"
            ],
            [
             0.8888888888888888,
             "#fdca26"
            ],
            [
             1,
             "#f0f921"
            ]
           ],
           "sequentialminus": [
            [
             0,
             "#0d0887"
            ],
            [
             0.1111111111111111,
             "#46039f"
            ],
            [
             0.2222222222222222,
             "#7201a8"
            ],
            [
             0.3333333333333333,
             "#9c179e"
            ],
            [
             0.4444444444444444,
             "#bd3786"
            ],
            [
             0.5555555555555556,
             "#d8576b"
            ],
            [
             0.6666666666666666,
             "#ed7953"
            ],
            [
             0.7777777777777778,
             "#fb9f3a"
            ],
            [
             0.8888888888888888,
             "#fdca26"
            ],
            [
             1,
             "#f0f921"
            ]
           ]
          },
          "colorway": [
           "#636efa",
           "#EF553B",
           "#00cc96",
           "#ab63fa",
           "#FFA15A",
           "#19d3f3",
           "#FF6692",
           "#B6E880",
           "#FF97FF",
           "#FECB52"
          ],
          "font": {
           "color": "#2a3f5f"
          },
          "geo": {
           "bgcolor": "white",
           "lakecolor": "white",
           "landcolor": "#E5ECF6",
           "showlakes": true,
           "showland": true,
           "subunitcolor": "white"
          },
          "hoverlabel": {
           "align": "left"
          },
          "hovermode": "closest",
          "mapbox": {
           "style": "light"
          },
          "paper_bgcolor": "white",
          "plot_bgcolor": "#E5ECF6",
          "polar": {
           "angularaxis": {
            "gridcolor": "white",
            "linecolor": "white",
            "ticks": ""
           },
           "bgcolor": "#E5ECF6",
           "radialaxis": {
            "gridcolor": "white",
            "linecolor": "white",
            "ticks": ""
           }
          },
          "scene": {
           "xaxis": {
            "backgroundcolor": "#E5ECF6",
            "gridcolor": "white",
            "gridwidth": 2,
            "linecolor": "white",
            "showbackground": true,
            "ticks": "",
            "zerolinecolor": "white"
           },
           "yaxis": {
            "backgroundcolor": "#E5ECF6",
            "gridcolor": "white",
            "gridwidth": 2,
            "linecolor": "white",
            "showbackground": true,
            "ticks": "",
            "zerolinecolor": "white"
           },
           "zaxis": {
            "backgroundcolor": "#E5ECF6",
            "gridcolor": "white",
            "gridwidth": 2,
            "linecolor": "white",
            "showbackground": true,
            "ticks": "",
            "zerolinecolor": "white"
           }
          },
          "shapedefaults": {
           "line": {
            "color": "#2a3f5f"
           }
          },
          "ternary": {
           "aaxis": {
            "gridcolor": "white",
            "linecolor": "white",
            "ticks": ""
           },
           "baxis": {
            "gridcolor": "white",
            "linecolor": "white",
            "ticks": ""
           },
           "bgcolor": "#E5ECF6",
           "caxis": {
            "gridcolor": "white",
            "linecolor": "white",
            "ticks": ""
           }
          },
          "title": {
           "x": 0.05
          },
          "xaxis": {
           "automargin": true,
           "gridcolor": "white",
           "linecolor": "white",
           "ticks": "",
           "title": {
            "standoff": 15
           },
           "zerolinecolor": "white",
           "zerolinewidth": 2
          },
          "yaxis": {
           "automargin": true,
           "gridcolor": "white",
           "linecolor": "white",
           "ticks": "",
           "title": {
            "standoff": 15
           },
           "zerolinecolor": "white",
           "zerolinewidth": 2
          }
         }
        },
        "title": {
         "font": {
          "color": "black",
          "size": 20
         }
        },
        "width": 500,
        "xaxis": {
         "exponentformat": "power",
         "range": [
          1,
          5.5
         ],
         "showgrid": false,
         "showticklabels": true,
         "tickangle": 0,
         "tickcolor": "#000",
         "tickfont": {
          "color": "black",
          "size": 16
         },
         "ticks": "outside",
         "tickvals": [
          10,
          100,
          1000,
          10000,
          100000
         ],
         "tickwidth": 1.5,
         "title": {
          "font": {
           "color": "black",
           "size": 18
          },
          "text": "copies/mL"
         },
         "type": "log"
        },
        "yaxis": {
         "exponentformat": "none",
         "range": [
          -0.5,
          0.5
         ],
         "rangemode": "tozero",
         "showexponent": "all",
         "showticklabels": true,
         "tickangle": 0,
         "tickcolor": "#000",
         "tickfont": {
          "color": "black",
          "size": 16
         },
         "ticks": "outside",
         "tickwidth": 1.5,
         "title": {
          "font": {
           "color": "black",
           "size": 18
          },
          "text": "Ct"
         },
         "zerolinecolor": "#000",
         "zerolinewidth": 1.5
        }
       }
      }
     },
     "metadata": {},
     "output_type": "display_data"
    }
   ],
   "source": [
    "import math\n",
    "import plotly.graph_objects as go\n",
    "\n",
    "# Specify colour blind safe colours for use in different plots\n",
    "colors = ['rgba(0,0,0,1)','rgba(230,159,0,1)', 'rgba(86,180,233, 1)', 'rgba(0,158,115,1)', 'rgba(0,114,178,1)', 'rgba(213,94,0, 1)', 'rgba(204,121,167,1)','rgba(0,0,0,1)','rgba(0,0,0,1)']\n",
    "\n",
    "dfresiduals = dfstandards\n",
    "\n",
    "# Assign values of the calculated slope and intercept to variables for the equation y = b0 + b1x (SEq 1)\n",
    "b0 = regmodel.params[0]\n",
    "b1 = regmodel.params[1]\n",
    "\n",
    "# Calculate the residuals for each point in the standard curve\n",
    "dfresiduals['predct'] = np.log10(dfstandards['IU'])*b1 +b0\n",
    "dfresiduals['residuals'] = dfresiduals['Target 1 Ct'] - dfresiduals['predct']\n",
    "\n",
    "# Add a new column to the dataframe with logged values of the IU\n",
    "dfresiduals['logIU'] = np.log10(dfresiduals['IU'])\n",
    "\n",
    "# Create a scatter plot of the residuals\n",
    "trace = []\n",
    "trace.append(go.Scatter(x=dfresiduals['IU'], y=dfresiduals['residuals'], name = 'Ct', mode='markers', marker = dict(color =colors[0])))\n",
    "\n",
    "layoutresiduals=go.Layout(font={'family':'Roboto'},\n",
    "                     paper_bgcolor='rgba(255,255,255,1)',\n",
    "                     plot_bgcolor='rgba(255,255,255,1)',\n",
    "                     margin=dict(l=100, r=40, t=40, b=100),\n",
    "                     autosize=False,\n",
    "                     width=500,\n",
    "                     height=375,\n",
    "                     titlefont={'size': 20,\n",
    "                               'color':'black'},\n",
    "                     xaxis=dict(title='copies/mL',\n",
    "                            titlefont = dict(size=18,\n",
    "                                        color='black'),\n",
    "                            showticklabels=True,\n",
    "                            tickangle=0,\n",
    "                            type=\"log\", range=[1,5.5],\n",
    "                            tickfont=dict(\n",
    "                                size=16,\n",
    "                                color='black'\n",
    "                                    ),\n",
    "                            showgrid=False,\n",
    "                            tickcolor = '#000',\n",
    "                            tickwidth=1.5,\n",
    "                            ticks='outside',\n",
    "                            exponentformat = 'power',\n",
    "                            tickvals=[10, 100, 1000,10000,100000]\n",
    "                               ),\n",
    "                    yaxis=dict(\n",
    "                        title='Ct',\n",
    "                        titlefont=dict(\n",
    "                            size=18,\n",
    "                            color='black'),\n",
    "                        showticklabels=True,\n",
    "                        tickangle=0,\n",
    "                        tickfont=dict(\n",
    "                            size=16,\n",
    "                            color='black'),\n",
    "                        tickcolor = '#000',\n",
    "                        zerolinecolor='#000',\n",
    "                        zerolinewidth=1.5,\n",
    "                        rangemode='tozero',\n",
    "                        exponentformat='none',\n",
    "                        showexponent='all',\n",
    "                        tickwidth=1.5,\n",
    "                        ticks='outside',\n",
    "                        range = [-0.5,0.5]\n",
    "                            ))\n",
    "\n",
    "fig= go.Figure(data=trace, layout=layoutresiduals)\n",
    "\n",
    "fig.update_layout(showlegend=False)\n",
    "fig.show()\n",
    "\n",
    "# Write image of residuals to folder, using kaleido\n",
    "fig.write_image('images/residuals.svg', engine=\"kaleido\",scale=1)\n",
    "\n"
   ]
  },
  {
   "cell_type": "code",
   "execution_count": 40,
   "metadata": {},
   "outputs": [
    {
     "name": "stdout",
     "output_type": "stream",
     "text": [
      "slope:-3.335984211745958\n",
      "intercept:38.66645943863722\n",
      "efficiency:0.9941673919755294\n",
      "xpred: 831.9851413821831\n",
      "ymean: 28.924999999999997\n",
      "dof: 8.0\n",
      "number of unknown sample replicates: 4\n",
      "s2p: 0.00981666666666674\n",
      "xdblbar: 3.4889132261647355\n",
      "sxx: 14.787116116160096\n",
      "g: 0.00031721429593360836\n",
      "xupper: 913.763660990488\n",
      "xlower: 757.1503874590653\n",
      "ylower: 28.78882848628346\n",
      "yupper: 29.061171513716534\n",
      "interceptlower: 38.529906191564486\n",
      "interceptupper: 38.80229508670102\n"
     ]
    }
   ],
   "source": [
    "import scipy\n",
    "\n",
    "# Calculate the number of unknown samples based on the size of the VLP dataframe\n",
    "numsamples = dfvlp.shape[0]\n",
    "\n",
    "# Calculate the number of standard curve samples based on the size of the standard curve dataframe\n",
    "J = dfresiduals.shape[0]\n",
    "\n",
    "# Calculate the number of degrees of freedom\n",
    "pointsstdcurve = dfresiduals['IU'].nunique()\n",
    "numreplicates = (dfresiduals.duplicated(subset=['IU']).sum()+pointsstdcurve)/pointsstdcurve\n",
    "sumJmin1 = pointsstdcurve*(numreplicates-1)\n",
    "\n",
    "# Calculate the tscore associated with the degrees of freedom\n",
    "alpha = 0.05\n",
    "tscore = abs(scipy.stats.t.ppf(alpha/2, sumJmin1))\n",
    "\n",
    "# Calculate the efficiency of the PCR reaction\n",
    "efficiency = 10**(-1/b1)-1\n",
    "\n",
    "# Calculate the predicted value of x based on the mean Ct values of the unknown samples\n",
    "ymean = dfvlp['Target 1 Ct'].mean()\n",
    "xpred = (ymean-b0)/b1\n",
    "\n",
    "# Calculate the residuals of the unknown samples and square them\n",
    "dfvlp['residualssqr'] = (dfvlp['Target 1 Ct'] - dfvlp['Target 1 Ct'].mean())**2\n",
    "\n",
    "# Sum the squared residuals of the unknown samples\n",
    "vlpsumresid = dfvlp['residualssqr'].sum()\n",
    "\n",
    "# Calculate the mean of the standards for each point on the standard curve\n",
    "dfmeanstandards = dfstandards.groupby(['IU'], as_index=False).mean()[['IU', 'Target 1 Ct']]\n",
    "dfmeanstandards.rename(columns={'Target 1 Ct':'mean ct'}, inplace=True)\n",
    "# Merge the dataframes to add the calculated mean ct column to the dfstandards dataframe\n",
    "dfstandardscalc = pd.merge(dfstandards,dfmeanstandards,on = \"IU\")\n",
    "# Calculate the residuals of the standard curve based on the mean ct values of each point on the standard curve\n",
    "dfstandardscalc['residuals'] = dfstandardscalc['Target 1 Ct'] - dfstandardscalc['mean ct']\n",
    "# Square the residuals of the standard curve\n",
    "dfstandardscalc['calcsqr'] = dfstandardscalc['residuals']**2\n",
    "\n",
    "# calculate the s^2p value (SEq 4)\n",
    "ssqrp = (dfstandardscalc['calcsqr'].sum())/(sumJmin1) \n",
    "\n",
    "# Calculate x double bar (SEq 6)\n",
    "xdblbar = (dfstandardscalc['logIU'].sum())/J\n",
    "dfstandardscalc['xi'] = (dfstandardscalc['logIU']-xdblbar)**2\n",
    "\n",
    "# Calculate s_xx (SEq 5)\n",
    "sxx = dfstandardscalc['xi'].sum()\n",
    "\n",
    "# Calculate the value of g (SEq 11)\n",
    "g=(ssqrp*tscore**2)/(sxx*b1**2)\n",
    "\n",
    "# Calculate the upper and lower confidence limits of log of the unknown samples (SEq 12)\n",
    "xlower = xpred + (((xpred-xdblbar)*g+(math.sqrt(ssqrp)*tscore/b1))*(((xpred-xdblbar)**2/sxx)+(1-g)*(1/numsamples+1/J))**0.5)/(1-g)\n",
    "xupper = xpred + (((xpred-xdblbar)*g-(math.sqrt(ssqrp)*tscore/b1))*(((xpred-xdblbar)**2/sxx)+(1-g)*(1/numsamples+1/J))**0.5)/(1-g)\n",
    "\n",
    "# Calculate the upper and lower confidence limits of the ct values of the unknown samples (SEq 13)\n",
    "ylower = ymean - tscore*math.sqrt(ssqrp)*((xpred-xdblbar)**2/sxx+1/numsamples+1/J)**0.5\n",
    "yupper = ymean + tscore*math.sqrt(ssqrp)*((xpred-xdblbar)**2/sxx+1/numsamples+1/J)**0.5\n",
    "\n",
    "# Calculate the intercepts of the prediction interval lines that run parallel to the calculated regression line\n",
    "interceptlower = ymean -b1*xlower\n",
    "interceptupper = ymean -b1*xupper\n",
    "\n",
    "# print out all calculated values\n",
    "print('slope:' + str(b1))\n",
    "print('intercept:' + str(b0))\n",
    "print('efficiency:' + str(efficiency))\n",
    "print('xpred: '+str(10**xpred))\n",
    "print('ymean: '+str(ymean))\n",
    "print('dof: '+str(sumJmin1))\n",
    "print('number of unknown sample replicates: '+str(numsamples))\n",
    "print('s2p: '+str(ssqrp))\n",
    "print('xdblbar: '+str(xdblbar))\n",
    "print('sxx: '+str(sxx))\n",
    "print('g: '+str(g))\n",
    "print('xupper: '+str(10**xupper))\n",
    "print('xlower: '+str(10**xlower))\n",
    "print('ylower: '+str(ylower))\n",
    "print('yupper: '+str(yupper))\n",
    "print('interceptlower: '+str(interceptlower))\n",
    "print('interceptupper: '+str(interceptupper))"
   ]
  },
  {
   "cell_type": "code",
   "execution_count": 62,
   "metadata": {},
   "outputs": [
    {
     "data": {
      "application/vnd.plotly.v1+json": {
       "config": {
        "plotlyServerURL": "https://plot.ly"
       },
       "data": [
        {
         "marker": {
          "color": "rgba(0,0,0,1)"
         },
         "mode": "markers",
         "name": "Ct",
         "type": "scatter",
         "x": [
          95500,
          95500,
          95500,
          9550,
          9550,
          9550,
          995,
          995,
          995,
          99.5,
          99.5,
          99.5
         ],
         "y": [
          21.92,
          22.08,
          22.09,
          25.28,
          25.45,
          25.4,
          28.73,
          28.7,
          28.85,
          32.09,
          31.86,
          31.88
         ]
        },
        {
         "line": {
          "color": "rgba(0,0,0,1)",
          "width": 2
         },
         "mode": "lines",
         "name": "lowerPI",
         "type": "scatter",
         "x": [
          95500,
          95500,
          95500,
          9550,
          9550,
          9550,
          995,
          995,
          995,
          99.5,
          99.5,
          99.5
         ],
         "y": [
          22.053246816592203,
          22.053246816592203,
          22.053246816592203,
          25.38923102833816,
          25.38923102833816,
          25.38923102833816,
          28.665768971661848,
          28.665768971661848,
          28.665768971661848,
          32.00175318340781,
          32.00175318340781,
          32.00175318340781
         ]
        },
        {
         "line": {
          "color": "rgba(0,0,0,1)",
          "dash": "dot",
          "width": 2
         },
         "mode": "lines",
         "name": "PI",
         "type": "scatter",
         "x": [
          913.763660990488,
          913.763660990488
         ],
         "y": [
          28.924999999999997,
          0
         ]
        },
        {
         "line": {
          "color": "rgba(0,0,0,1)",
          "dash": "dot",
          "width": 2
         },
         "mode": "lines",
         "name": "PI",
         "type": "scatter",
         "x": [
          757.1503874590653,
          757.1503874590653
         ],
         "y": [
          28.924999999999997,
          0
         ]
        },
        {
         "line": {
          "color": "rgba(0,0,0,1)",
          "dash": "dot",
          "width": 2
         },
         "mode": "lines",
         "name": "PI",
         "type": "scatter",
         "x": [
          1,
          913.763660990488
         ],
         "y": [
          28.924999999999997,
          28.924999999999997
         ]
        }
       ],
       "layout": {
        "autosize": false,
        "font": {
         "family": "Arial"
        },
        "height": 350,
        "margin": {
         "b": 80,
         "l": 80,
         "r": 40,
         "t": 40
        },
        "paper_bgcolor": "rgba(255,255,255,1)",
        "plot_bgcolor": "rgba(255,255,255,1)",
        "showlegend": false,
        "template": {
         "data": {
          "bar": [
           {
            "error_x": {
             "color": "#2a3f5f"
            },
            "error_y": {
             "color": "#2a3f5f"
            },
            "marker": {
             "line": {
              "color": "#E5ECF6",
              "width": 0.5
             },
             "pattern": {
              "fillmode": "overlay",
              "size": 10,
              "solidity": 0.2
             }
            },
            "type": "bar"
           }
          ],
          "barpolar": [
           {
            "marker": {
             "line": {
              "color": "#E5ECF6",
              "width": 0.5
             },
             "pattern": {
              "fillmode": "overlay",
              "size": 10,
              "solidity": 0.2
             }
            },
            "type": "barpolar"
           }
          ],
          "carpet": [
           {
            "aaxis": {
             "endlinecolor": "#2a3f5f",
             "gridcolor": "white",
             "linecolor": "white",
             "minorgridcolor": "white",
             "startlinecolor": "#2a3f5f"
            },
            "baxis": {
             "endlinecolor": "#2a3f5f",
             "gridcolor": "white",
             "linecolor": "white",
             "minorgridcolor": "white",
             "startlinecolor": "#2a3f5f"
            },
            "type": "carpet"
           }
          ],
          "choropleth": [
           {
            "colorbar": {
             "outlinewidth": 0,
             "ticks": ""
            },
            "type": "choropleth"
           }
          ],
          "contour": [
           {
            "colorbar": {
             "outlinewidth": 0,
             "ticks": ""
            },
            "colorscale": [
             [
              0,
              "#0d0887"
             ],
             [
              0.1111111111111111,
              "#46039f"
             ],
             [
              0.2222222222222222,
              "#7201a8"
             ],
             [
              0.3333333333333333,
              "#9c179e"
             ],
             [
              0.4444444444444444,
              "#bd3786"
             ],
             [
              0.5555555555555556,
              "#d8576b"
             ],
             [
              0.6666666666666666,
              "#ed7953"
             ],
             [
              0.7777777777777778,
              "#fb9f3a"
             ],
             [
              0.8888888888888888,
              "#fdca26"
             ],
             [
              1,
              "#f0f921"
             ]
            ],
            "type": "contour"
           }
          ],
          "contourcarpet": [
           {
            "colorbar": {
             "outlinewidth": 0,
             "ticks": ""
            },
            "type": "contourcarpet"
           }
          ],
          "heatmap": [
           {
            "colorbar": {
             "outlinewidth": 0,
             "ticks": ""
            },
            "colorscale": [
             [
              0,
              "#0d0887"
             ],
             [
              0.1111111111111111,
              "#46039f"
             ],
             [
              0.2222222222222222,
              "#7201a8"
             ],
             [
              0.3333333333333333,
              "#9c179e"
             ],
             [
              0.4444444444444444,
              "#bd3786"
             ],
             [
              0.5555555555555556,
              "#d8576b"
             ],
             [
              0.6666666666666666,
              "#ed7953"
             ],
             [
              0.7777777777777778,
              "#fb9f3a"
             ],
             [
              0.8888888888888888,
              "#fdca26"
             ],
             [
              1,
              "#f0f921"
             ]
            ],
            "type": "heatmap"
           }
          ],
          "heatmapgl": [
           {
            "colorbar": {
             "outlinewidth": 0,
             "ticks": ""
            },
            "colorscale": [
             [
              0,
              "#0d0887"
             ],
             [
              0.1111111111111111,
              "#46039f"
             ],
             [
              0.2222222222222222,
              "#7201a8"
             ],
             [
              0.3333333333333333,
              "#9c179e"
             ],
             [
              0.4444444444444444,
              "#bd3786"
             ],
             [
              0.5555555555555556,
              "#d8576b"
             ],
             [
              0.6666666666666666,
              "#ed7953"
             ],
             [
              0.7777777777777778,
              "#fb9f3a"
             ],
             [
              0.8888888888888888,
              "#fdca26"
             ],
             [
              1,
              "#f0f921"
             ]
            ],
            "type": "heatmapgl"
           }
          ],
          "histogram": [
           {
            "marker": {
             "pattern": {
              "fillmode": "overlay",
              "size": 10,
              "solidity": 0.2
             }
            },
            "type": "histogram"
           }
          ],
          "histogram2d": [
           {
            "colorbar": {
             "outlinewidth": 0,
             "ticks": ""
            },
            "colorscale": [
             [
              0,
              "#0d0887"
             ],
             [
              0.1111111111111111,
              "#46039f"
             ],
             [
              0.2222222222222222,
              "#7201a8"
             ],
             [
              0.3333333333333333,
              "#9c179e"
             ],
             [
              0.4444444444444444,
              "#bd3786"
             ],
             [
              0.5555555555555556,
              "#d8576b"
             ],
             [
              0.6666666666666666,
              "#ed7953"
             ],
             [
              0.7777777777777778,
              "#fb9f3a"
             ],
             [
              0.8888888888888888,
              "#fdca26"
             ],
             [
              1,
              "#f0f921"
             ]
            ],
            "type": "histogram2d"
           }
          ],
          "histogram2dcontour": [
           {
            "colorbar": {
             "outlinewidth": 0,
             "ticks": ""
            },
            "colorscale": [
             [
              0,
              "#0d0887"
             ],
             [
              0.1111111111111111,
              "#46039f"
             ],
             [
              0.2222222222222222,
              "#7201a8"
             ],
             [
              0.3333333333333333,
              "#9c179e"
             ],
             [
              0.4444444444444444,
              "#bd3786"
             ],
             [
              0.5555555555555556,
              "#d8576b"
             ],
             [
              0.6666666666666666,
              "#ed7953"
             ],
             [
              0.7777777777777778,
              "#fb9f3a"
             ],
             [
              0.8888888888888888,
              "#fdca26"
             ],
             [
              1,
              "#f0f921"
             ]
            ],
            "type": "histogram2dcontour"
           }
          ],
          "mesh3d": [
           {
            "colorbar": {
             "outlinewidth": 0,
             "ticks": ""
            },
            "type": "mesh3d"
           }
          ],
          "parcoords": [
           {
            "line": {
             "colorbar": {
              "outlinewidth": 0,
              "ticks": ""
             }
            },
            "type": "parcoords"
           }
          ],
          "pie": [
           {
            "automargin": true,
            "type": "pie"
           }
          ],
          "scatter": [
           {
            "marker": {
             "colorbar": {
              "outlinewidth": 0,
              "ticks": ""
             }
            },
            "type": "scatter"
           }
          ],
          "scatter3d": [
           {
            "line": {
             "colorbar": {
              "outlinewidth": 0,
              "ticks": ""
             }
            },
            "marker": {
             "colorbar": {
              "outlinewidth": 0,
              "ticks": ""
             }
            },
            "type": "scatter3d"
           }
          ],
          "scattercarpet": [
           {
            "marker": {
             "colorbar": {
              "outlinewidth": 0,
              "ticks": ""
             }
            },
            "type": "scattercarpet"
           }
          ],
          "scattergeo": [
           {
            "marker": {
             "colorbar": {
              "outlinewidth": 0,
              "ticks": ""
             }
            },
            "type": "scattergeo"
           }
          ],
          "scattergl": [
           {
            "marker": {
             "colorbar": {
              "outlinewidth": 0,
              "ticks": ""
             }
            },
            "type": "scattergl"
           }
          ],
          "scattermapbox": [
           {
            "marker": {
             "colorbar": {
              "outlinewidth": 0,
              "ticks": ""
             }
            },
            "type": "scattermapbox"
           }
          ],
          "scatterpolar": [
           {
            "marker": {
             "colorbar": {
              "outlinewidth": 0,
              "ticks": ""
             }
            },
            "type": "scatterpolar"
           }
          ],
          "scatterpolargl": [
           {
            "marker": {
             "colorbar": {
              "outlinewidth": 0,
              "ticks": ""
             }
            },
            "type": "scatterpolargl"
           }
          ],
          "scatterternary": [
           {
            "marker": {
             "colorbar": {
              "outlinewidth": 0,
              "ticks": ""
             }
            },
            "type": "scatterternary"
           }
          ],
          "surface": [
           {
            "colorbar": {
             "outlinewidth": 0,
             "ticks": ""
            },
            "colorscale": [
             [
              0,
              "#0d0887"
             ],
             [
              0.1111111111111111,
              "#46039f"
             ],
             [
              0.2222222222222222,
              "#7201a8"
             ],
             [
              0.3333333333333333,
              "#9c179e"
             ],
             [
              0.4444444444444444,
              "#bd3786"
             ],
             [
              0.5555555555555556,
              "#d8576b"
             ],
             [
              0.6666666666666666,
              "#ed7953"
             ],
             [
              0.7777777777777778,
              "#fb9f3a"
             ],
             [
              0.8888888888888888,
              "#fdca26"
             ],
             [
              1,
              "#f0f921"
             ]
            ],
            "type": "surface"
           }
          ],
          "table": [
           {
            "cells": {
             "fill": {
              "color": "#EBF0F8"
             },
             "line": {
              "color": "white"
             }
            },
            "header": {
             "fill": {
              "color": "#C8D4E3"
             },
             "line": {
              "color": "white"
             }
            },
            "type": "table"
           }
          ]
         },
         "layout": {
          "annotationdefaults": {
           "arrowcolor": "#2a3f5f",
           "arrowhead": 0,
           "arrowwidth": 1
          },
          "autotypenumbers": "strict",
          "coloraxis": {
           "colorbar": {
            "outlinewidth": 0,
            "ticks": ""
           }
          },
          "colorscale": {
           "diverging": [
            [
             0,
             "#8e0152"
            ],
            [
             0.1,
             "#c51b7d"
            ],
            [
             0.2,
             "#de77ae"
            ],
            [
             0.3,
             "#f1b6da"
            ],
            [
             0.4,
             "#fde0ef"
            ],
            [
             0.5,
             "#f7f7f7"
            ],
            [
             0.6,
             "#e6f5d0"
            ],
            [
             0.7,
             "#b8e186"
            ],
            [
             0.8,
             "#7fbc41"
            ],
            [
             0.9,
             "#4d9221"
            ],
            [
             1,
             "#276419"
            ]
           ],
           "sequential": [
            [
             0,
             "#0d0887"
            ],
            [
             0.1111111111111111,
             "#46039f"
            ],
            [
             0.2222222222222222,
             "#7201a8"
            ],
            [
             0.3333333333333333,
             "#9c179e"
            ],
            [
             0.4444444444444444,
             "#bd3786"
            ],
            [
             0.5555555555555556,
             "#d8576b"
            ],
            [
             0.6666666666666666,
             "#ed7953"
            ],
            [
             0.7777777777777778,
             "#fb9f3a"
            ],
            [
             0.8888888888888888,
             "#fdca26"
            ],
            [
             1,
             "#f0f921"
            ]
           ],
           "sequentialminus": [
            [
             0,
             "#0d0887"
            ],
            [
             0.1111111111111111,
             "#46039f"
            ],
            [
             0.2222222222222222,
             "#7201a8"
            ],
            [
             0.3333333333333333,
             "#9c179e"
            ],
            [
             0.4444444444444444,
             "#bd3786"
            ],
            [
             0.5555555555555556,
             "#d8576b"
            ],
            [
             0.6666666666666666,
             "#ed7953"
            ],
            [
             0.7777777777777778,
             "#fb9f3a"
            ],
            [
             0.8888888888888888,
             "#fdca26"
            ],
            [
             1,
             "#f0f921"
            ]
           ]
          },
          "colorway": [
           "#636efa",
           "#EF553B",
           "#00cc96",
           "#ab63fa",
           "#FFA15A",
           "#19d3f3",
           "#FF6692",
           "#B6E880",
           "#FF97FF",
           "#FECB52"
          ],
          "font": {
           "color": "#2a3f5f"
          },
          "geo": {
           "bgcolor": "white",
           "lakecolor": "white",
           "landcolor": "#E5ECF6",
           "showlakes": true,
           "showland": true,
           "subunitcolor": "white"
          },
          "hoverlabel": {
           "align": "left"
          },
          "hovermode": "closest",
          "mapbox": {
           "style": "light"
          },
          "paper_bgcolor": "white",
          "plot_bgcolor": "#E5ECF6",
          "polar": {
           "angularaxis": {
            "gridcolor": "white",
            "linecolor": "white",
            "ticks": ""
           },
           "bgcolor": "#E5ECF6",
           "radialaxis": {
            "gridcolor": "white",
            "linecolor": "white",
            "ticks": ""
           }
          },
          "scene": {
           "xaxis": {
            "backgroundcolor": "#E5ECF6",
            "gridcolor": "white",
            "gridwidth": 2,
            "linecolor": "white",
            "showbackground": true,
            "ticks": "",
            "zerolinecolor": "white"
           },
           "yaxis": {
            "backgroundcolor": "#E5ECF6",
            "gridcolor": "white",
            "gridwidth": 2,
            "linecolor": "white",
            "showbackground": true,
            "ticks": "",
            "zerolinecolor": "white"
           },
           "zaxis": {
            "backgroundcolor": "#E5ECF6",
            "gridcolor": "white",
            "gridwidth": 2,
            "linecolor": "white",
            "showbackground": true,
            "ticks": "",
            "zerolinecolor": "white"
           }
          },
          "shapedefaults": {
           "line": {
            "color": "#2a3f5f"
           }
          },
          "ternary": {
           "aaxis": {
            "gridcolor": "white",
            "linecolor": "white",
            "ticks": ""
           },
           "baxis": {
            "gridcolor": "white",
            "linecolor": "white",
            "ticks": ""
           },
           "bgcolor": "#E5ECF6",
           "caxis": {
            "gridcolor": "white",
            "linecolor": "white",
            "ticks": ""
           }
          },
          "title": {
           "x": 0.05
          },
          "xaxis": {
           "automargin": true,
           "gridcolor": "white",
           "linecolor": "white",
           "ticks": "",
           "title": {
            "standoff": 15
           },
           "zerolinecolor": "white",
           "zerolinewidth": 2
          },
          "yaxis": {
           "automargin": true,
           "gridcolor": "white",
           "linecolor": "white",
           "ticks": "",
           "title": {
            "standoff": 15
           },
           "zerolinecolor": "white",
           "zerolinewidth": 2
          }
         }
        },
        "title": {
         "font": {
          "color": "black",
          "size": 20
         }
        },
        "width": 400,
        "xaxis": {
         "exponentformat": "power",
         "range": [
          1,
          5.5
         ],
         "showgrid": false,
         "showticklabels": true,
         "tickangle": 0,
         "tickcolor": "#000",
         "tickfont": {
          "color": "black",
          "size": 12
         },
         "ticks": "outside",
         "tickvals": [
          10,
          100,
          1000,
          10000,
          100000
         ],
         "tickwidth": 1.5,
         "title": {
          "font": {
           "color": "black",
           "size": 16
          },
          "text": "copies/mL"
         },
         "type": "log",
         "zerolinecolor": "#000",
         "zerolinewidth": 2
        },
        "yaxis": {
         "exponentformat": "none",
         "range": [
          0,
          40
         ],
         "rangemode": "tozero",
         "showexponent": "all",
         "showticklabels": true,
         "tickangle": 0,
         "tickcolor": "#000",
         "tickfont": {
          "color": "black",
          "size": 12
         },
         "ticks": "outside",
         "tickwidth": 1.5,
         "title": {
          "font": {
           "color": "black",
           "size": 16
          },
          "text": "Ct"
         },
         "zerolinecolor": "#000",
         "zerolinewidth": 2
        }
       }
      }
     },
     "metadata": {},
     "output_type": "display_data"
    }
   ],
   "source": [
    "# generate predicted values for the calculated regression line\n",
    "predictions = regmodel.get_prediction()\n",
    "df_predictions = predictions.summary_frame(alpha=0.05)\n",
    "df_predictions['IU'] = dfstandards['IU']\n",
    "\n",
    "# generate predicted values for the prediction interval lines\n",
    "yvalues = np.arange(1,41)\n",
    "errorpredminx = (yvalues - interceptlower)/b1\n",
    "errorpredmaxx = (yvalues - interceptupper)/b1\n",
    "\n",
    "# plot values of the prediction intervals of the concentration of the unknown samples\n",
    "\n",
    "layout=go.Layout(font={'family':'Arial'},\n",
    "                     paper_bgcolor='rgba(255,255,255,1)',\n",
    "                     plot_bgcolor='rgba(255,255,255,1)',\n",
    "                     margin=dict(l=80, r=40, t=40, b=80),\n",
    "                     autosize=False,\n",
    "                     width=400,\n",
    "                     height=350,\n",
    "                     titlefont={'size': 20,\n",
    "                               'color':'black'},\n",
    "                     xaxis=dict(title='copies/mL',\n",
    "                            titlefont = dict(size=16,\n",
    "                                        color='black'),\n",
    "                            showticklabels=True,\n",
    "                            tickangle=0,\n",
    "                        zerolinecolor='#000',\n",
    "                        zerolinewidth=2,\n",
    "                            # tickprefix = \"<b>\",\n",
    "                            # ticksuffix = \"</b>\",\n",
    "                            type=\"log\", range=[1,5.5],\n",
    "                            tickfont=dict(\n",
    "                                size=12,\n",
    "                                color='black'\n",
    "                                    ),\n",
    "                            showgrid=False,\n",
    "                            tickcolor = '#000',\n",
    "                            tickwidth=1.5,\n",
    "                            ticks='outside',\n",
    "                            exponentformat = 'power',\n",
    "                            tickvals=[10, 100, 1000,10000,100000],\n",
    "                               ),\n",
    "                    yaxis=dict(\n",
    "                        title='Ct',\n",
    "                        titlefont=dict(\n",
    "                            size=16,\n",
    "                            color='black'),\n",
    "                        showticklabels=True,\n",
    "                        tickangle=0,\n",
    "                        tickfont=dict(\n",
    "                            size=12,\n",
    "                            color='black'),\n",
    "                        tickcolor = '#000',\n",
    "                        zerolinecolor='#000',\n",
    "                        zerolinewidth=2,\n",
    "                        # tickprefix = \"<b>\",\n",
    "                        # ticksuffix = \"</b>\",\n",
    "                        rangemode='tozero',\n",
    "                        exponentformat='none',\n",
    "                        showexponent='all',\n",
    "                        tickwidth=1.5,\n",
    "                        ticks='outside',\n",
    "                        range = [0,40],\n",
    "                           )\n",
    "    )\n",
    "\n",
    "\n",
    "\n",
    "trace = []\n",
    "\n",
    "# plot of the prediction intervals below and above the calculated regression line\n",
    "\n",
    "errorpredupper = go.Scatter(\n",
    "        name='Upper Bound',\n",
    "        x=10**errorpredmaxx,\n",
    "        y=yvalues,\n",
    "        mode='lines',\n",
    "        marker=dict(color=\"#444\"),\n",
    "        line=dict(width=0),\n",
    "        showlegend=False)\n",
    "\n",
    "errorpredlower = go.Scatter(\n",
    "        name='Lower Bound',\n",
    "        x=10**errorpredminx,\n",
    "        y=yvalues,\n",
    "        marker=dict(color=\"#444\"),\n",
    "        line=dict(width=0),\n",
    "        mode='lines',\n",
    "        fillcolor='rgba(230,159,0,0.3)',\n",
    "        fill='tonexty',\n",
    "        showlegend=False\n",
    "    )\n",
    "\n",
    "# plot of the individual standard curve samples\n",
    "trace.append(go.Scatter(x=dfstandards['IU'], y=dfstandards['Target 1 Ct'], name = 'Ct', mode='markers', marker = dict(color =colors[0])))\n",
    "# plot of the calculated regression line\n",
    "trace.append(go.Scatter(x=df_predictions['IU'], y=df_predictions['mean'], name = 'lowerPI', mode='lines', line = dict(color =colors[0],width=2)))\n",
    "# addition of vertical lines for the xupper and xlower values and their intercept with the horizontal line from ymean\n",
    "trace.append(go.Scatter(x=[10**xupper,10**xupper], y=[ymean,0], name = 'PI', mode='lines', line = dict(color =colors[0],width=2,dash='dot')))\n",
    "trace.append(go.Scatter(x=[10**xlower,10**xlower], y=[ymean,0], name = 'PI', mode='lines', line = dict(color =colors[0],width=2,dash='dot')))\n",
    "trace.append(go.Scatter(x=[10**0,10**xupper], y=[ymean,ymean], name = 'PI', mode='lines', line = dict(color =colors[0],width=2,dash='dot')))\n",
    "\n",
    "\n",
    "fig= go.Figure(data=trace, layout=layout)\n",
    "\n",
    "fig.update_layout(showlegend=False)\n",
    "fig.show()\n",
    "\n",
    "fig.write_image('images/std_curve.svg', engine=\"kaleido\",scale=1)\n"
   ]
  },
  {
   "cell_type": "code",
   "execution_count": 63,
   "metadata": {},
   "outputs": [
    {
     "data": {
      "application/vnd.plotly.v1+json": {
       "config": {
        "plotlyServerURL": "https://plot.ly"
       },
       "data": [
        {
         "marker": {
          "color": "rgba(0,0,0,1)"
         },
         "mode": "markers",
         "name": "Ct",
         "type": "scatter",
         "x": [
          95500,
          95500,
          95500,
          9550,
          9550,
          9550,
          995,
          995,
          995,
          99.5,
          99.5,
          99.5
         ],
         "y": [
          21.92,
          22.08,
          22.09,
          25.28,
          25.45,
          25.4,
          28.73,
          28.7,
          28.85,
          32.09,
          31.86,
          31.88
         ]
        },
        {
         "line": {
          "color": "rgba(0,0,0,1)",
          "width": 2
         },
         "mode": "lines",
         "name": "lowerPI",
         "type": "scatter",
         "x": [
          95500,
          95500,
          95500,
          9550,
          9550,
          9550,
          995,
          995,
          995,
          99.5,
          99.5,
          99.5
         ],
         "y": [
          22.053246816592203,
          22.053246816592203,
          22.053246816592203,
          25.38923102833816,
          25.38923102833816,
          25.38923102833816,
          28.665768971661848,
          28.665768971661848,
          28.665768971661848,
          32.00175318340781,
          32.00175318340781,
          32.00175318340781
         ]
        },
        {
         "line": {
          "color": "rgba(0,0,0,1)",
          "dash": "dot",
          "width": 2
         },
         "mode": "lines",
         "name": "PI",
         "type": "scatter",
         "x": [
          913.763660990488,
          913.763660990488
         ],
         "y": [
          28.924999999999997,
          0
         ]
        },
        {
         "line": {
          "color": "rgba(0,0,0,1)",
          "dash": "dot",
          "width": 2
         },
         "mode": "lines",
         "name": "PI",
         "type": "scatter",
         "x": [
          757.1503874590653,
          757.1503874590653
         ],
         "y": [
          28.924999999999997,
          0
         ]
        },
        {
         "line": {
          "color": "rgba(0,0,0,1)",
          "dash": "dot",
          "width": 2
         },
         "mode": "lines",
         "name": "PI",
         "type": "scatter",
         "x": [
          1,
          913.763660990488
         ],
         "y": [
          28.924999999999997,
          28.924999999999997
         ]
        },
        {
         "line": {
          "width": 0
         },
         "marker": {
          "color": "#444"
         },
         "mode": "lines",
         "name": "Upper Bound",
         "showlegend": false,
         "type": "scatter",
         "x": [
          214623294338.44763,
          107625515893.04156,
          53970151315.34265,
          27064002516.798206,
          13571580111.9319,
          6805637363.514985,
          3412771360.5691614,
          1711376574.6556942,
          858191033.2814701,
          430350549.67542106,
          215804626.73652112,
          108217909.69249292,
          54267214.54174727,
          27212968.56027078,
          13646280.984121498,
          6843097.043424603,
          3431555.982191375,
          1720796.3564141376,
          862914.6998083366,
          432719.290908416,
          216992.4614401306,
          108813.56415379261,
          54565.91286752324,
          27362.754544625917,
          13721.393025847694,
          6880.762909403779,
          3450.443998378353,
          1730.2679866609194,
          867.6643664034756,
          435.1010701984854,
          218.1868342393518,
          109.41249722431995,
          54.86625529260612,
          27.513364982993064,
          13.796918500275366,
          6.918636096344649,
          3.469435978235848,
          1.739791750781181,
          0.8724401761768102,
          0.43749595930987734
         ],
         "y": [
          1,
          2,
          3,
          4,
          5,
          6,
          7,
          8,
          9,
          10,
          11,
          12,
          13,
          14,
          15,
          16,
          17,
          18,
          19,
          20,
          21,
          22,
          23,
          24,
          25,
          26,
          27,
          28,
          29,
          30,
          31,
          32,
          33,
          34,
          35,
          36,
          37,
          38,
          39,
          40
         ]
        },
        {
         "fill": "tonexty",
         "fillcolor": "rgba(230,159,0,0.3)",
         "line": {
          "width": 0
         },
         "marker": {
          "color": "#444"
         },
         "mode": "lines",
         "name": "Lower Bound",
         "showlegend": false,
         "type": "scatter",
         "x": [
          177838228202.19128,
          89179187724.06319,
          44720011009.56599,
          22425404802.785355,
          11245497691.429773,
          5639194451.118458,
          2827844078.5916004,
          1418057526.1488883,
          711102554.3066794,
          356591205.5167158,
          178817087.74881598,
          89670048.99807858,
          44966159.490375884,
          22548839.014878273,
          11307395.309748886,
          5670233.780398541,
          2843409.1356700514,
          1425862.8172899853,
          715016.6144665763,
          358553.95958422637,
          179801.3351472082,
          90163.61207726263,
          45213.662824935614,
          22672.95263520708,
          11369.633625763998,
          5701.443956768657,
          2859.059866143182,
          1433.7110704186387,
          718.952218448587,
          360.52751706884254,
          180.79100005325256,
          90.65989183292749,
          45.462528470649076,
          22.79774940337954,
          11.432214514747868,
          5.732825920607649,
          2.874796741575642,
          1.4416025220067983,
          0.722909484834505,
          0.36251193743487703
         ],
         "y": [
          1,
          2,
          3,
          4,
          5,
          6,
          7,
          8,
          9,
          10,
          11,
          12,
          13,
          14,
          15,
          16,
          17,
          18,
          19,
          20,
          21,
          22,
          23,
          24,
          25,
          26,
          27,
          28,
          29,
          30,
          31,
          32,
          33,
          34,
          35,
          36,
          37,
          38,
          39,
          40
         ]
        }
       ],
       "layout": {
        "autosize": false,
        "font": {
         "family": "Arial"
        },
        "height": 350,
        "margin": {
         "b": 80,
         "l": 80,
         "r": 40,
         "t": 40
        },
        "paper_bgcolor": "rgba(255,255,255,1)",
        "plot_bgcolor": "rgba(255,255,255,1)",
        "showlegend": false,
        "template": {
         "data": {
          "bar": [
           {
            "error_x": {
             "color": "#2a3f5f"
            },
            "error_y": {
             "color": "#2a3f5f"
            },
            "marker": {
             "line": {
              "color": "#E5ECF6",
              "width": 0.5
             },
             "pattern": {
              "fillmode": "overlay",
              "size": 10,
              "solidity": 0.2
             }
            },
            "type": "bar"
           }
          ],
          "barpolar": [
           {
            "marker": {
             "line": {
              "color": "#E5ECF6",
              "width": 0.5
             },
             "pattern": {
              "fillmode": "overlay",
              "size": 10,
              "solidity": 0.2
             }
            },
            "type": "barpolar"
           }
          ],
          "carpet": [
           {
            "aaxis": {
             "endlinecolor": "#2a3f5f",
             "gridcolor": "white",
             "linecolor": "white",
             "minorgridcolor": "white",
             "startlinecolor": "#2a3f5f"
            },
            "baxis": {
             "endlinecolor": "#2a3f5f",
             "gridcolor": "white",
             "linecolor": "white",
             "minorgridcolor": "white",
             "startlinecolor": "#2a3f5f"
            },
            "type": "carpet"
           }
          ],
          "choropleth": [
           {
            "colorbar": {
             "outlinewidth": 0,
             "ticks": ""
            },
            "type": "choropleth"
           }
          ],
          "contour": [
           {
            "colorbar": {
             "outlinewidth": 0,
             "ticks": ""
            },
            "colorscale": [
             [
              0,
              "#0d0887"
             ],
             [
              0.1111111111111111,
              "#46039f"
             ],
             [
              0.2222222222222222,
              "#7201a8"
             ],
             [
              0.3333333333333333,
              "#9c179e"
             ],
             [
              0.4444444444444444,
              "#bd3786"
             ],
             [
              0.5555555555555556,
              "#d8576b"
             ],
             [
              0.6666666666666666,
              "#ed7953"
             ],
             [
              0.7777777777777778,
              "#fb9f3a"
             ],
             [
              0.8888888888888888,
              "#fdca26"
             ],
             [
              1,
              "#f0f921"
             ]
            ],
            "type": "contour"
           }
          ],
          "contourcarpet": [
           {
            "colorbar": {
             "outlinewidth": 0,
             "ticks": ""
            },
            "type": "contourcarpet"
           }
          ],
          "heatmap": [
           {
            "colorbar": {
             "outlinewidth": 0,
             "ticks": ""
            },
            "colorscale": [
             [
              0,
              "#0d0887"
             ],
             [
              0.1111111111111111,
              "#46039f"
             ],
             [
              0.2222222222222222,
              "#7201a8"
             ],
             [
              0.3333333333333333,
              "#9c179e"
             ],
             [
              0.4444444444444444,
              "#bd3786"
             ],
             [
              0.5555555555555556,
              "#d8576b"
             ],
             [
              0.6666666666666666,
              "#ed7953"
             ],
             [
              0.7777777777777778,
              "#fb9f3a"
             ],
             [
              0.8888888888888888,
              "#fdca26"
             ],
             [
              1,
              "#f0f921"
             ]
            ],
            "type": "heatmap"
           }
          ],
          "heatmapgl": [
           {
            "colorbar": {
             "outlinewidth": 0,
             "ticks": ""
            },
            "colorscale": [
             [
              0,
              "#0d0887"
             ],
             [
              0.1111111111111111,
              "#46039f"
             ],
             [
              0.2222222222222222,
              "#7201a8"
             ],
             [
              0.3333333333333333,
              "#9c179e"
             ],
             [
              0.4444444444444444,
              "#bd3786"
             ],
             [
              0.5555555555555556,
              "#d8576b"
             ],
             [
              0.6666666666666666,
              "#ed7953"
             ],
             [
              0.7777777777777778,
              "#fb9f3a"
             ],
             [
              0.8888888888888888,
              "#fdca26"
             ],
             [
              1,
              "#f0f921"
             ]
            ],
            "type": "heatmapgl"
           }
          ],
          "histogram": [
           {
            "marker": {
             "pattern": {
              "fillmode": "overlay",
              "size": 10,
              "solidity": 0.2
             }
            },
            "type": "histogram"
           }
          ],
          "histogram2d": [
           {
            "colorbar": {
             "outlinewidth": 0,
             "ticks": ""
            },
            "colorscale": [
             [
              0,
              "#0d0887"
             ],
             [
              0.1111111111111111,
              "#46039f"
             ],
             [
              0.2222222222222222,
              "#7201a8"
             ],
             [
              0.3333333333333333,
              "#9c179e"
             ],
             [
              0.4444444444444444,
              "#bd3786"
             ],
             [
              0.5555555555555556,
              "#d8576b"
             ],
             [
              0.6666666666666666,
              "#ed7953"
             ],
             [
              0.7777777777777778,
              "#fb9f3a"
             ],
             [
              0.8888888888888888,
              "#fdca26"
             ],
             [
              1,
              "#f0f921"
             ]
            ],
            "type": "histogram2d"
           }
          ],
          "histogram2dcontour": [
           {
            "colorbar": {
             "outlinewidth": 0,
             "ticks": ""
            },
            "colorscale": [
             [
              0,
              "#0d0887"
             ],
             [
              0.1111111111111111,
              "#46039f"
             ],
             [
              0.2222222222222222,
              "#7201a8"
             ],
             [
              0.3333333333333333,
              "#9c179e"
             ],
             [
              0.4444444444444444,
              "#bd3786"
             ],
             [
              0.5555555555555556,
              "#d8576b"
             ],
             [
              0.6666666666666666,
              "#ed7953"
             ],
             [
              0.7777777777777778,
              "#fb9f3a"
             ],
             [
              0.8888888888888888,
              "#fdca26"
             ],
             [
              1,
              "#f0f921"
             ]
            ],
            "type": "histogram2dcontour"
           }
          ],
          "mesh3d": [
           {
            "colorbar": {
             "outlinewidth": 0,
             "ticks": ""
            },
            "type": "mesh3d"
           }
          ],
          "parcoords": [
           {
            "line": {
             "colorbar": {
              "outlinewidth": 0,
              "ticks": ""
             }
            },
            "type": "parcoords"
           }
          ],
          "pie": [
           {
            "automargin": true,
            "type": "pie"
           }
          ],
          "scatter": [
           {
            "marker": {
             "colorbar": {
              "outlinewidth": 0,
              "ticks": ""
             }
            },
            "type": "scatter"
           }
          ],
          "scatter3d": [
           {
            "line": {
             "colorbar": {
              "outlinewidth": 0,
              "ticks": ""
             }
            },
            "marker": {
             "colorbar": {
              "outlinewidth": 0,
              "ticks": ""
             }
            },
            "type": "scatter3d"
           }
          ],
          "scattercarpet": [
           {
            "marker": {
             "colorbar": {
              "outlinewidth": 0,
              "ticks": ""
             }
            },
            "type": "scattercarpet"
           }
          ],
          "scattergeo": [
           {
            "marker": {
             "colorbar": {
              "outlinewidth": 0,
              "ticks": ""
             }
            },
            "type": "scattergeo"
           }
          ],
          "scattergl": [
           {
            "marker": {
             "colorbar": {
              "outlinewidth": 0,
              "ticks": ""
             }
            },
            "type": "scattergl"
           }
          ],
          "scattermapbox": [
           {
            "marker": {
             "colorbar": {
              "outlinewidth": 0,
              "ticks": ""
             }
            },
            "type": "scattermapbox"
           }
          ],
          "scatterpolar": [
           {
            "marker": {
             "colorbar": {
              "outlinewidth": 0,
              "ticks": ""
             }
            },
            "type": "scatterpolar"
           }
          ],
          "scatterpolargl": [
           {
            "marker": {
             "colorbar": {
              "outlinewidth": 0,
              "ticks": ""
             }
            },
            "type": "scatterpolargl"
           }
          ],
          "scatterternary": [
           {
            "marker": {
             "colorbar": {
              "outlinewidth": 0,
              "ticks": ""
             }
            },
            "type": "scatterternary"
           }
          ],
          "surface": [
           {
            "colorbar": {
             "outlinewidth": 0,
             "ticks": ""
            },
            "colorscale": [
             [
              0,
              "#0d0887"
             ],
             [
              0.1111111111111111,
              "#46039f"
             ],
             [
              0.2222222222222222,
              "#7201a8"
             ],
             [
              0.3333333333333333,
              "#9c179e"
             ],
             [
              0.4444444444444444,
              "#bd3786"
             ],
             [
              0.5555555555555556,
              "#d8576b"
             ],
             [
              0.6666666666666666,
              "#ed7953"
             ],
             [
              0.7777777777777778,
              "#fb9f3a"
             ],
             [
              0.8888888888888888,
              "#fdca26"
             ],
             [
              1,
              "#f0f921"
             ]
            ],
            "type": "surface"
           }
          ],
          "table": [
           {
            "cells": {
             "fill": {
              "color": "#EBF0F8"
             },
             "line": {
              "color": "white"
             }
            },
            "header": {
             "fill": {
              "color": "#C8D4E3"
             },
             "line": {
              "color": "white"
             }
            },
            "type": "table"
           }
          ]
         },
         "layout": {
          "annotationdefaults": {
           "arrowcolor": "#2a3f5f",
           "arrowhead": 0,
           "arrowwidth": 1
          },
          "autotypenumbers": "strict",
          "coloraxis": {
           "colorbar": {
            "outlinewidth": 0,
            "ticks": ""
           }
          },
          "colorscale": {
           "diverging": [
            [
             0,
             "#8e0152"
            ],
            [
             0.1,
             "#c51b7d"
            ],
            [
             0.2,
             "#de77ae"
            ],
            [
             0.3,
             "#f1b6da"
            ],
            [
             0.4,
             "#fde0ef"
            ],
            [
             0.5,
             "#f7f7f7"
            ],
            [
             0.6,
             "#e6f5d0"
            ],
            [
             0.7,
             "#b8e186"
            ],
            [
             0.8,
             "#7fbc41"
            ],
            [
             0.9,
             "#4d9221"
            ],
            [
             1,
             "#276419"
            ]
           ],
           "sequential": [
            [
             0,
             "#0d0887"
            ],
            [
             0.1111111111111111,
             "#46039f"
            ],
            [
             0.2222222222222222,
             "#7201a8"
            ],
            [
             0.3333333333333333,
             "#9c179e"
            ],
            [
             0.4444444444444444,
             "#bd3786"
            ],
            [
             0.5555555555555556,
             "#d8576b"
            ],
            [
             0.6666666666666666,
             "#ed7953"
            ],
            [
             0.7777777777777778,
             "#fb9f3a"
            ],
            [
             0.8888888888888888,
             "#fdca26"
            ],
            [
             1,
             "#f0f921"
            ]
           ],
           "sequentialminus": [
            [
             0,
             "#0d0887"
            ],
            [
             0.1111111111111111,
             "#46039f"
            ],
            [
             0.2222222222222222,
             "#7201a8"
            ],
            [
             0.3333333333333333,
             "#9c179e"
            ],
            [
             0.4444444444444444,
             "#bd3786"
            ],
            [
             0.5555555555555556,
             "#d8576b"
            ],
            [
             0.6666666666666666,
             "#ed7953"
            ],
            [
             0.7777777777777778,
             "#fb9f3a"
            ],
            [
             0.8888888888888888,
             "#fdca26"
            ],
            [
             1,
             "#f0f921"
            ]
           ]
          },
          "colorway": [
           "#636efa",
           "#EF553B",
           "#00cc96",
           "#ab63fa",
           "#FFA15A",
           "#19d3f3",
           "#FF6692",
           "#B6E880",
           "#FF97FF",
           "#FECB52"
          ],
          "font": {
           "color": "#2a3f5f"
          },
          "geo": {
           "bgcolor": "white",
           "lakecolor": "white",
           "landcolor": "#E5ECF6",
           "showlakes": true,
           "showland": true,
           "subunitcolor": "white"
          },
          "hoverlabel": {
           "align": "left"
          },
          "hovermode": "closest",
          "mapbox": {
           "style": "light"
          },
          "paper_bgcolor": "white",
          "plot_bgcolor": "#E5ECF6",
          "polar": {
           "angularaxis": {
            "gridcolor": "white",
            "linecolor": "white",
            "ticks": ""
           },
           "bgcolor": "#E5ECF6",
           "radialaxis": {
            "gridcolor": "white",
            "linecolor": "white",
            "ticks": ""
           }
          },
          "scene": {
           "xaxis": {
            "backgroundcolor": "#E5ECF6",
            "gridcolor": "white",
            "gridwidth": 2,
            "linecolor": "white",
            "showbackground": true,
            "ticks": "",
            "zerolinecolor": "white"
           },
           "yaxis": {
            "backgroundcolor": "#E5ECF6",
            "gridcolor": "white",
            "gridwidth": 2,
            "linecolor": "white",
            "showbackground": true,
            "ticks": "",
            "zerolinecolor": "white"
           },
           "zaxis": {
            "backgroundcolor": "#E5ECF6",
            "gridcolor": "white",
            "gridwidth": 2,
            "linecolor": "white",
            "showbackground": true,
            "ticks": "",
            "zerolinecolor": "white"
           }
          },
          "shapedefaults": {
           "line": {
            "color": "#2a3f5f"
           }
          },
          "ternary": {
           "aaxis": {
            "gridcolor": "white",
            "linecolor": "white",
            "ticks": ""
           },
           "baxis": {
            "gridcolor": "white",
            "linecolor": "white",
            "ticks": ""
           },
           "bgcolor": "#E5ECF6",
           "caxis": {
            "gridcolor": "white",
            "linecolor": "white",
            "ticks": ""
           }
          },
          "title": {
           "x": 0.05
          },
          "xaxis": {
           "automargin": true,
           "gridcolor": "white",
           "linecolor": "white",
           "ticks": "",
           "title": {
            "standoff": 15
           },
           "zerolinecolor": "white",
           "zerolinewidth": 2
          },
          "yaxis": {
           "automargin": true,
           "gridcolor": "white",
           "linecolor": "white",
           "ticks": "",
           "title": {
            "standoff": 15
           },
           "zerolinecolor": "white",
           "zerolinewidth": 2
          }
         }
        },
        "title": {
         "font": {
          "color": "black",
          "size": 20
         }
        },
        "width": 400,
        "xaxis": {
         "exponentformat": "power",
         "range": [
          2.8,
          3.05
         ],
         "showgrid": false,
         "showticklabels": true,
         "tickangle": 0,
         "tickcolor": "#000",
         "tickfont": {
          "color": "black",
          "size": 12
         },
         "ticks": "outside",
         "tickvals": [
          600,
          700,
          800,
          900,
          1000,
          1100
         ],
         "tickwidth": 1.5,
         "title": {
          "font": {
           "color": "black",
           "size": 16
          },
          "text": "copies/mL"
         },
         "type": "log",
         "zerolinecolor": "#000",
         "zerolinewidth": 2
        },
        "yaxis": {
         "exponentformat": "none",
         "range": [
          28,
          30
         ],
         "rangemode": "tozero",
         "showexponent": "all",
         "showticklabels": true,
         "tickangle": 0,
         "tickcolor": "#000",
         "tickfont": {
          "color": "black",
          "size": 12
         },
         "ticks": "outside",
         "tickvals": [
          28,
          29,
          30
         ],
         "tickwidth": 1.5,
         "title": {
          "font": {
           "color": "black",
           "size": 16
          },
          "text": "Ct"
         },
         "zerolinecolor": "#000",
         "zerolinewidth": 2
        }
       }
      }
     },
     "metadata": {},
     "output_type": "display_data"
    }
   ],
   "source": [
    "# zoomed in graph of the prediction intervals and the xupper and xlower values and their intercept with the horizontal line from ymean\n",
    "\n",
    "trace.append(errorpredupper)\n",
    "trace.append(errorpredlower)\n",
    "\n",
    "\n",
    "fig= go.Figure(data=trace, layout=layout)\n",
    "fig.update_layout(showlegend=False)\n",
    "\n",
    "\n",
    "fig.update_layout(yaxis=dict(\n",
    "        range=[28, 30],\n",
    "        tickvals=[28, 29, 30],\n",
    "    ),\n",
    "    xaxis=dict(\n",
    "        range=[2.8, 3.05],\n",
    "        tickvals=[600, 700, 800, 900,1000,1100]\n",
    "    ))\n",
    "\n",
    "fig.show()\n",
    "fig.write_image('images/std_curve_zoom.svg', engine=\"kaleido\",scale=1)\n"
   ]
  },
  {
   "cell_type": "code",
   "execution_count": 64,
   "metadata": {},
   "outputs": [
    {
     "data": {
      "application/vnd.plotly.v1+json": {
       "config": {
        "plotlyServerURL": "https://plot.ly"
       },
       "data": [
        {
         "marker": {
          "color": "rgba(0,0,0,1)"
         },
         "mode": "markers",
         "name": "Ct",
         "type": "scatter",
         "x": [
          95500,
          95500,
          95500,
          9550,
          9550,
          9550,
          995,
          995,
          995,
          99.5,
          99.5,
          99.5
         ],
         "y": [
          21.92,
          22.08,
          22.09,
          25.28,
          25.45,
          25.4,
          28.73,
          28.7,
          28.85,
          32.09,
          31.86,
          31.88
         ]
        },
        {
         "line": {
          "color": "rgba(0,0,0,1)",
          "width": 2
         },
         "mode": "lines",
         "name": "lowerPI",
         "type": "scatter",
         "x": [
          95500,
          95500,
          95500,
          9550,
          9550,
          9550,
          995,
          995,
          995,
          99.5,
          99.5,
          99.5
         ],
         "y": [
          22.053246816592203,
          22.053246816592203,
          22.053246816592203,
          25.38923102833816,
          25.38923102833816,
          25.38923102833816,
          28.665768971661848,
          28.665768971661848,
          28.665768971661848,
          32.00175318340781,
          32.00175318340781,
          32.00175318340781
         ]
        },
        {
         "line": {
          "color": "rgba(0,0,0,1)",
          "dash": "dash",
          "width": 2
         },
         "mode": "lines",
         "name": "PI",
         "type": "scatter",
         "x": [
          913.763660990488,
          913.763660990488
         ],
         "y": [
          28.78882848628346,
          0
         ]
        },
        {
         "line": {
          "color": "rgba(0,0,0,1)",
          "dash": "dash",
          "width": 2
         },
         "mode": "lines",
         "name": "PI",
         "type": "scatter",
         "x": [
          757.1503874590653,
          757.1503874590653
         ],
         "y": [
          29.061171513716534,
          0
         ]
        },
        {
         "line": {
          "color": "rgba(0,0,0,1)",
          "dash": "dash",
          "width": 2
         },
         "mode": "lines",
         "name": "PI",
         "type": "scatter",
         "x": [
          1,
          913.763660990488
         ],
         "y": [
          28.78882848628346,
          28.78882848628346
         ]
        },
        {
         "line": {
          "color": "rgba(0,0,0,1)",
          "dash": "dash",
          "width": 2
         },
         "mode": "lines",
         "name": "PI",
         "type": "scatter",
         "x": [
          1,
          757.1503874590653
         ],
         "y": [
          29.061171513716534,
          29.061171513716534
         ]
        }
       ],
       "layout": {
        "autosize": false,
        "font": {
         "family": "Arial"
        },
        "height": 350,
        "margin": {
         "b": 80,
         "l": 80,
         "r": 40,
         "t": 40
        },
        "paper_bgcolor": "rgba(255,255,255,1)",
        "plot_bgcolor": "rgba(255,255,255,1)",
        "showlegend": false,
        "template": {
         "data": {
          "bar": [
           {
            "error_x": {
             "color": "#2a3f5f"
            },
            "error_y": {
             "color": "#2a3f5f"
            },
            "marker": {
             "line": {
              "color": "#E5ECF6",
              "width": 0.5
             },
             "pattern": {
              "fillmode": "overlay",
              "size": 10,
              "solidity": 0.2
             }
            },
            "type": "bar"
           }
          ],
          "barpolar": [
           {
            "marker": {
             "line": {
              "color": "#E5ECF6",
              "width": 0.5
             },
             "pattern": {
              "fillmode": "overlay",
              "size": 10,
              "solidity": 0.2
             }
            },
            "type": "barpolar"
           }
          ],
          "carpet": [
           {
            "aaxis": {
             "endlinecolor": "#2a3f5f",
             "gridcolor": "white",
             "linecolor": "white",
             "minorgridcolor": "white",
             "startlinecolor": "#2a3f5f"
            },
            "baxis": {
             "endlinecolor": "#2a3f5f",
             "gridcolor": "white",
             "linecolor": "white",
             "minorgridcolor": "white",
             "startlinecolor": "#2a3f5f"
            },
            "type": "carpet"
           }
          ],
          "choropleth": [
           {
            "colorbar": {
             "outlinewidth": 0,
             "ticks": ""
            },
            "type": "choropleth"
           }
          ],
          "contour": [
           {
            "colorbar": {
             "outlinewidth": 0,
             "ticks": ""
            },
            "colorscale": [
             [
              0,
              "#0d0887"
             ],
             [
              0.1111111111111111,
              "#46039f"
             ],
             [
              0.2222222222222222,
              "#7201a8"
             ],
             [
              0.3333333333333333,
              "#9c179e"
             ],
             [
              0.4444444444444444,
              "#bd3786"
             ],
             [
              0.5555555555555556,
              "#d8576b"
             ],
             [
              0.6666666666666666,
              "#ed7953"
             ],
             [
              0.7777777777777778,
              "#fb9f3a"
             ],
             [
              0.8888888888888888,
              "#fdca26"
             ],
             [
              1,
              "#f0f921"
             ]
            ],
            "type": "contour"
           }
          ],
          "contourcarpet": [
           {
            "colorbar": {
             "outlinewidth": 0,
             "ticks": ""
            },
            "type": "contourcarpet"
           }
          ],
          "heatmap": [
           {
            "colorbar": {
             "outlinewidth": 0,
             "ticks": ""
            },
            "colorscale": [
             [
              0,
              "#0d0887"
             ],
             [
              0.1111111111111111,
              "#46039f"
             ],
             [
              0.2222222222222222,
              "#7201a8"
             ],
             [
              0.3333333333333333,
              "#9c179e"
             ],
             [
              0.4444444444444444,
              "#bd3786"
             ],
             [
              0.5555555555555556,
              "#d8576b"
             ],
             [
              0.6666666666666666,
              "#ed7953"
             ],
             [
              0.7777777777777778,
              "#fb9f3a"
             ],
             [
              0.8888888888888888,
              "#fdca26"
             ],
             [
              1,
              "#f0f921"
             ]
            ],
            "type": "heatmap"
           }
          ],
          "heatmapgl": [
           {
            "colorbar": {
             "outlinewidth": 0,
             "ticks": ""
            },
            "colorscale": [
             [
              0,
              "#0d0887"
             ],
             [
              0.1111111111111111,
              "#46039f"
             ],
             [
              0.2222222222222222,
              "#7201a8"
             ],
             [
              0.3333333333333333,
              "#9c179e"
             ],
             [
              0.4444444444444444,
              "#bd3786"
             ],
             [
              0.5555555555555556,
              "#d8576b"
             ],
             [
              0.6666666666666666,
              "#ed7953"
             ],
             [
              0.7777777777777778,
              "#fb9f3a"
             ],
             [
              0.8888888888888888,
              "#fdca26"
             ],
             [
              1,
              "#f0f921"
             ]
            ],
            "type": "heatmapgl"
           }
          ],
          "histogram": [
           {
            "marker": {
             "pattern": {
              "fillmode": "overlay",
              "size": 10,
              "solidity": 0.2
             }
            },
            "type": "histogram"
           }
          ],
          "histogram2d": [
           {
            "colorbar": {
             "outlinewidth": 0,
             "ticks": ""
            },
            "colorscale": [
             [
              0,
              "#0d0887"
             ],
             [
              0.1111111111111111,
              "#46039f"
             ],
             [
              0.2222222222222222,
              "#7201a8"
             ],
             [
              0.3333333333333333,
              "#9c179e"
             ],
             [
              0.4444444444444444,
              "#bd3786"
             ],
             [
              0.5555555555555556,
              "#d8576b"
             ],
             [
              0.6666666666666666,
              "#ed7953"
             ],
             [
              0.7777777777777778,
              "#fb9f3a"
             ],
             [
              0.8888888888888888,
              "#fdca26"
             ],
             [
              1,
              "#f0f921"
             ]
            ],
            "type": "histogram2d"
           }
          ],
          "histogram2dcontour": [
           {
            "colorbar": {
             "outlinewidth": 0,
             "ticks": ""
            },
            "colorscale": [
             [
              0,
              "#0d0887"
             ],
             [
              0.1111111111111111,
              "#46039f"
             ],
             [
              0.2222222222222222,
              "#7201a8"
             ],
             [
              0.3333333333333333,
              "#9c179e"
             ],
             [
              0.4444444444444444,
              "#bd3786"
             ],
             [
              0.5555555555555556,
              "#d8576b"
             ],
             [
              0.6666666666666666,
              "#ed7953"
             ],
             [
              0.7777777777777778,
              "#fb9f3a"
             ],
             [
              0.8888888888888888,
              "#fdca26"
             ],
             [
              1,
              "#f0f921"
             ]
            ],
            "type": "histogram2dcontour"
           }
          ],
          "mesh3d": [
           {
            "colorbar": {
             "outlinewidth": 0,
             "ticks": ""
            },
            "type": "mesh3d"
           }
          ],
          "parcoords": [
           {
            "line": {
             "colorbar": {
              "outlinewidth": 0,
              "ticks": ""
             }
            },
            "type": "parcoords"
           }
          ],
          "pie": [
           {
            "automargin": true,
            "type": "pie"
           }
          ],
          "scatter": [
           {
            "marker": {
             "colorbar": {
              "outlinewidth": 0,
              "ticks": ""
             }
            },
            "type": "scatter"
           }
          ],
          "scatter3d": [
           {
            "line": {
             "colorbar": {
              "outlinewidth": 0,
              "ticks": ""
             }
            },
            "marker": {
             "colorbar": {
              "outlinewidth": 0,
              "ticks": ""
             }
            },
            "type": "scatter3d"
           }
          ],
          "scattercarpet": [
           {
            "marker": {
             "colorbar": {
              "outlinewidth": 0,
              "ticks": ""
             }
            },
            "type": "scattercarpet"
           }
          ],
          "scattergeo": [
           {
            "marker": {
             "colorbar": {
              "outlinewidth": 0,
              "ticks": ""
             }
            },
            "type": "scattergeo"
           }
          ],
          "scattergl": [
           {
            "marker": {
             "colorbar": {
              "outlinewidth": 0,
              "ticks": ""
             }
            },
            "type": "scattergl"
           }
          ],
          "scattermapbox": [
           {
            "marker": {
             "colorbar": {
              "outlinewidth": 0,
              "ticks": ""
             }
            },
            "type": "scattermapbox"
           }
          ],
          "scatterpolar": [
           {
            "marker": {
             "colorbar": {
              "outlinewidth": 0,
              "ticks": ""
             }
            },
            "type": "scatterpolar"
           }
          ],
          "scatterpolargl": [
           {
            "marker": {
             "colorbar": {
              "outlinewidth": 0,
              "ticks": ""
             }
            },
            "type": "scatterpolargl"
           }
          ],
          "scatterternary": [
           {
            "marker": {
             "colorbar": {
              "outlinewidth": 0,
              "ticks": ""
             }
            },
            "type": "scatterternary"
           }
          ],
          "surface": [
           {
            "colorbar": {
             "outlinewidth": 0,
             "ticks": ""
            },
            "colorscale": [
             [
              0,
              "#0d0887"
             ],
             [
              0.1111111111111111,
              "#46039f"
             ],
             [
              0.2222222222222222,
              "#7201a8"
             ],
             [
              0.3333333333333333,
              "#9c179e"
             ],
             [
              0.4444444444444444,
              "#bd3786"
             ],
             [
              0.5555555555555556,
              "#d8576b"
             ],
             [
              0.6666666666666666,
              "#ed7953"
             ],
             [
              0.7777777777777778,
              "#fb9f3a"
             ],
             [
              0.8888888888888888,
              "#fdca26"
             ],
             [
              1,
              "#f0f921"
             ]
            ],
            "type": "surface"
           }
          ],
          "table": [
           {
            "cells": {
             "fill": {
              "color": "#EBF0F8"
             },
             "line": {
              "color": "white"
             }
            },
            "header": {
             "fill": {
              "color": "#C8D4E3"
             },
             "line": {
              "color": "white"
             }
            },
            "type": "table"
           }
          ]
         },
         "layout": {
          "annotationdefaults": {
           "arrowcolor": "#2a3f5f",
           "arrowhead": 0,
           "arrowwidth": 1
          },
          "autotypenumbers": "strict",
          "coloraxis": {
           "colorbar": {
            "outlinewidth": 0,
            "ticks": ""
           }
          },
          "colorscale": {
           "diverging": [
            [
             0,
             "#8e0152"
            ],
            [
             0.1,
             "#c51b7d"
            ],
            [
             0.2,
             "#de77ae"
            ],
            [
             0.3,
             "#f1b6da"
            ],
            [
             0.4,
             "#fde0ef"
            ],
            [
             0.5,
             "#f7f7f7"
            ],
            [
             0.6,
             "#e6f5d0"
            ],
            [
             0.7,
             "#b8e186"
            ],
            [
             0.8,
             "#7fbc41"
            ],
            [
             0.9,
             "#4d9221"
            ],
            [
             1,
             "#276419"
            ]
           ],
           "sequential": [
            [
             0,
             "#0d0887"
            ],
            [
             0.1111111111111111,
             "#46039f"
            ],
            [
             0.2222222222222222,
             "#7201a8"
            ],
            [
             0.3333333333333333,
             "#9c179e"
            ],
            [
             0.4444444444444444,
             "#bd3786"
            ],
            [
             0.5555555555555556,
             "#d8576b"
            ],
            [
             0.6666666666666666,
             "#ed7953"
            ],
            [
             0.7777777777777778,
             "#fb9f3a"
            ],
            [
             0.8888888888888888,
             "#fdca26"
            ],
            [
             1,
             "#f0f921"
            ]
           ],
           "sequentialminus": [
            [
             0,
             "#0d0887"
            ],
            [
             0.1111111111111111,
             "#46039f"
            ],
            [
             0.2222222222222222,
             "#7201a8"
            ],
            [
             0.3333333333333333,
             "#9c179e"
            ],
            [
             0.4444444444444444,
             "#bd3786"
            ],
            [
             0.5555555555555556,
             "#d8576b"
            ],
            [
             0.6666666666666666,
             "#ed7953"
            ],
            [
             0.7777777777777778,
             "#fb9f3a"
            ],
            [
             0.8888888888888888,
             "#fdca26"
            ],
            [
             1,
             "#f0f921"
            ]
           ]
          },
          "colorway": [
           "#636efa",
           "#EF553B",
           "#00cc96",
           "#ab63fa",
           "#FFA15A",
           "#19d3f3",
           "#FF6692",
           "#B6E880",
           "#FF97FF",
           "#FECB52"
          ],
          "font": {
           "color": "#2a3f5f"
          },
          "geo": {
           "bgcolor": "white",
           "lakecolor": "white",
           "landcolor": "#E5ECF6",
           "showlakes": true,
           "showland": true,
           "subunitcolor": "white"
          },
          "hoverlabel": {
           "align": "left"
          },
          "hovermode": "closest",
          "mapbox": {
           "style": "light"
          },
          "paper_bgcolor": "white",
          "plot_bgcolor": "#E5ECF6",
          "polar": {
           "angularaxis": {
            "gridcolor": "white",
            "linecolor": "white",
            "ticks": ""
           },
           "bgcolor": "#E5ECF6",
           "radialaxis": {
            "gridcolor": "white",
            "linecolor": "white",
            "ticks": ""
           }
          },
          "scene": {
           "xaxis": {
            "backgroundcolor": "#E5ECF6",
            "gridcolor": "white",
            "gridwidth": 2,
            "linecolor": "white",
            "showbackground": true,
            "ticks": "",
            "zerolinecolor": "white"
           },
           "yaxis": {
            "backgroundcolor": "#E5ECF6",
            "gridcolor": "white",
            "gridwidth": 2,
            "linecolor": "white",
            "showbackground": true,
            "ticks": "",
            "zerolinecolor": "white"
           },
           "zaxis": {
            "backgroundcolor": "#E5ECF6",
            "gridcolor": "white",
            "gridwidth": 2,
            "linecolor": "white",
            "showbackground": true,
            "ticks": "",
            "zerolinecolor": "white"
           }
          },
          "shapedefaults": {
           "line": {
            "color": "#2a3f5f"
           }
          },
          "ternary": {
           "aaxis": {
            "gridcolor": "white",
            "linecolor": "white",
            "ticks": ""
           },
           "baxis": {
            "gridcolor": "white",
            "linecolor": "white",
            "ticks": ""
           },
           "bgcolor": "#E5ECF6",
           "caxis": {
            "gridcolor": "white",
            "linecolor": "white",
            "ticks": ""
           }
          },
          "title": {
           "x": 0.05
          },
          "xaxis": {
           "automargin": true,
           "gridcolor": "white",
           "linecolor": "white",
           "ticks": "",
           "title": {
            "standoff": 15
           },
           "zerolinecolor": "white",
           "zerolinewidth": 2
          },
          "yaxis": {
           "automargin": true,
           "gridcolor": "white",
           "linecolor": "white",
           "ticks": "",
           "title": {
            "standoff": 15
           },
           "zerolinecolor": "white",
           "zerolinewidth": 2
          }
         }
        },
        "title": {
         "font": {
          "color": "black",
          "size": 20
         }
        },
        "width": 400,
        "xaxis": {
         "exponentformat": "power",
         "range": [
          1,
          5.5
         ],
         "showgrid": false,
         "showticklabels": true,
         "tickangle": 0,
         "tickcolor": "#000",
         "tickfont": {
          "color": "black",
          "size": 12
         },
         "ticks": "outside",
         "tickvals": [
          10,
          100,
          1000,
          10000,
          100000
         ],
         "tickwidth": 1.5,
         "title": {
          "font": {
           "color": "black",
           "size": 16
          },
          "text": "copies/mL"
         },
         "type": "log",
         "zerolinecolor": "#000",
         "zerolinewidth": 2
        },
        "yaxis": {
         "exponentformat": "none",
         "range": [
          0,
          40
         ],
         "rangemode": "tozero",
         "showexponent": "all",
         "showticklabels": true,
         "tickangle": 0,
         "tickcolor": "#000",
         "tickfont": {
          "color": "black",
          "size": 12
         },
         "ticks": "outside",
         "tickwidth": 1.5,
         "title": {
          "font": {
           "color": "black",
           "size": 16
          },
          "text": "Ct"
         },
         "zerolinecolor": "#000",
         "zerolinewidth": 2
        }
       }
      }
     },
     "metadata": {},
     "output_type": "display_data"
    }
   ],
   "source": [
    "trace = []\n",
    "\n",
    "# plot of the individual standard curve samples\n",
    "trace.append(go.Scatter(x=dfstandards['IU'], y=dfstandards['Target 1 Ct'], name = 'Ct', mode='markers', marker = dict(color =colors[0])))\n",
    "# plot of the calculated regression line\n",
    "trace.append(go.Scatter(x=df_predictions['IU'], y=df_predictions['mean'], name = 'lowerPI', mode='lines', line = dict(color =colors[0],width=2)))\n",
    "\n",
    "# plot of the yupper, ylower and xupper and xlower values and their corresponding intercepts\n",
    "trace.append(go.Scatter(x=[10**xupper,10**xupper], y=[ylower,0], name = 'PI', mode='lines', line = dict(color =colors[0],dash = 'dash',width=2)))\n",
    "trace.append(go.Scatter(x=[10**xlower,10**xlower], y=[yupper,0], name = 'PI', mode='lines', line = dict(color =colors[0],dash = 'dash',width=2)))\n",
    "trace.append(go.Scatter(x=[10**0,10**xupper], y=[ylower,ylower], name = 'PI', mode='lines', line = dict(color =colors[0],dash = 'dash',width=2)))\n",
    "trace.append(go.Scatter(x=[10**0,10**xlower], y=[yupper,yupper], name = 'PI', mode='lines', line = dict(color =colors[0],dash = 'dash',width=2)))\n",
    "\n",
    "\n",
    "\n",
    "fig= go.Figure(data=trace, layout=layout)\n",
    "\n",
    "fig.update_layout(showlegend=False)\n",
    "fig.show()\n",
    "\n",
    "fig.write_image('images/ypred.svg', engine=\"kaleido\",scale=1)\n"
   ]
  },
  {
   "cell_type": "code",
   "execution_count": 65,
   "metadata": {},
   "outputs": [
    {
     "data": {
      "application/vnd.plotly.v1+json": {
       "config": {
        "plotlyServerURL": "https://plot.ly"
       },
       "data": [
        {
         "marker": {
          "color": "rgba(0,0,0,1)"
         },
         "mode": "markers",
         "name": "Ct",
         "type": "scatter",
         "x": [
          95500,
          95500,
          95500,
          9550,
          9550,
          9550,
          995,
          995,
          995,
          99.5,
          99.5,
          99.5
         ],
         "y": [
          21.92,
          22.08,
          22.09,
          25.28,
          25.45,
          25.4,
          28.73,
          28.7,
          28.85,
          32.09,
          31.86,
          31.88
         ]
        },
        {
         "line": {
          "color": "rgba(0,0,0,1)",
          "width": 2
         },
         "mode": "lines",
         "name": "lowerPI",
         "type": "scatter",
         "x": [
          95500,
          95500,
          95500,
          9550,
          9550,
          9550,
          995,
          995,
          995,
          99.5,
          99.5,
          99.5
         ],
         "y": [
          22.053246816592203,
          22.053246816592203,
          22.053246816592203,
          25.38923102833816,
          25.38923102833816,
          25.38923102833816,
          28.665768971661848,
          28.665768971661848,
          28.665768971661848,
          32.00175318340781,
          32.00175318340781,
          32.00175318340781
         ]
        },
        {
         "line": {
          "color": "rgba(0,0,0,1)",
          "dash": "dash",
          "width": 2
         },
         "mode": "lines",
         "name": "PI",
         "type": "scatter",
         "x": [
          913.763660990488,
          913.763660990488
         ],
         "y": [
          28.78882848628346,
          0
         ]
        },
        {
         "line": {
          "color": "rgba(0,0,0,1)",
          "dash": "dash",
          "width": 2
         },
         "mode": "lines",
         "name": "PI",
         "type": "scatter",
         "x": [
          757.1503874590653,
          757.1503874590653
         ],
         "y": [
          29.061171513716534,
          0
         ]
        },
        {
         "line": {
          "color": "rgba(0,0,0,1)",
          "dash": "dash",
          "width": 2
         },
         "mode": "lines",
         "name": "PI",
         "type": "scatter",
         "x": [
          1,
          913.763660990488
         ],
         "y": [
          28.78882848628346,
          28.78882848628346
         ]
        },
        {
         "line": {
          "color": "rgba(0,0,0,1)",
          "dash": "dash",
          "width": 2
         },
         "mode": "lines",
         "name": "PI",
         "type": "scatter",
         "x": [
          1,
          757.1503874590653
         ],
         "y": [
          29.061171513716534,
          29.061171513716534
         ]
        }
       ],
       "layout": {
        "autosize": false,
        "font": {
         "family": "Arial"
        },
        "height": 350,
        "margin": {
         "b": 80,
         "l": 80,
         "r": 40,
         "t": 40
        },
        "paper_bgcolor": "rgba(255,255,255,1)",
        "plot_bgcolor": "rgba(255,255,255,1)",
        "showlegend": false,
        "template": {
         "data": {
          "bar": [
           {
            "error_x": {
             "color": "#2a3f5f"
            },
            "error_y": {
             "color": "#2a3f5f"
            },
            "marker": {
             "line": {
              "color": "#E5ECF6",
              "width": 0.5
             },
             "pattern": {
              "fillmode": "overlay",
              "size": 10,
              "solidity": 0.2
             }
            },
            "type": "bar"
           }
          ],
          "barpolar": [
           {
            "marker": {
             "line": {
              "color": "#E5ECF6",
              "width": 0.5
             },
             "pattern": {
              "fillmode": "overlay",
              "size": 10,
              "solidity": 0.2
             }
            },
            "type": "barpolar"
           }
          ],
          "carpet": [
           {
            "aaxis": {
             "endlinecolor": "#2a3f5f",
             "gridcolor": "white",
             "linecolor": "white",
             "minorgridcolor": "white",
             "startlinecolor": "#2a3f5f"
            },
            "baxis": {
             "endlinecolor": "#2a3f5f",
             "gridcolor": "white",
             "linecolor": "white",
             "minorgridcolor": "white",
             "startlinecolor": "#2a3f5f"
            },
            "type": "carpet"
           }
          ],
          "choropleth": [
           {
            "colorbar": {
             "outlinewidth": 0,
             "ticks": ""
            },
            "type": "choropleth"
           }
          ],
          "contour": [
           {
            "colorbar": {
             "outlinewidth": 0,
             "ticks": ""
            },
            "colorscale": [
             [
              0,
              "#0d0887"
             ],
             [
              0.1111111111111111,
              "#46039f"
             ],
             [
              0.2222222222222222,
              "#7201a8"
             ],
             [
              0.3333333333333333,
              "#9c179e"
             ],
             [
              0.4444444444444444,
              "#bd3786"
             ],
             [
              0.5555555555555556,
              "#d8576b"
             ],
             [
              0.6666666666666666,
              "#ed7953"
             ],
             [
              0.7777777777777778,
              "#fb9f3a"
             ],
             [
              0.8888888888888888,
              "#fdca26"
             ],
             [
              1,
              "#f0f921"
             ]
            ],
            "type": "contour"
           }
          ],
          "contourcarpet": [
           {
            "colorbar": {
             "outlinewidth": 0,
             "ticks": ""
            },
            "type": "contourcarpet"
           }
          ],
          "heatmap": [
           {
            "colorbar": {
             "outlinewidth": 0,
             "ticks": ""
            },
            "colorscale": [
             [
              0,
              "#0d0887"
             ],
             [
              0.1111111111111111,
              "#46039f"
             ],
             [
              0.2222222222222222,
              "#7201a8"
             ],
             [
              0.3333333333333333,
              "#9c179e"
             ],
             [
              0.4444444444444444,
              "#bd3786"
             ],
             [
              0.5555555555555556,
              "#d8576b"
             ],
             [
              0.6666666666666666,
              "#ed7953"
             ],
             [
              0.7777777777777778,
              "#fb9f3a"
             ],
             [
              0.8888888888888888,
              "#fdca26"
             ],
             [
              1,
              "#f0f921"
             ]
            ],
            "type": "heatmap"
           }
          ],
          "heatmapgl": [
           {
            "colorbar": {
             "outlinewidth": 0,
             "ticks": ""
            },
            "colorscale": [
             [
              0,
              "#0d0887"
             ],
             [
              0.1111111111111111,
              "#46039f"
             ],
             [
              0.2222222222222222,
              "#7201a8"
             ],
             [
              0.3333333333333333,
              "#9c179e"
             ],
             [
              0.4444444444444444,
              "#bd3786"
             ],
             [
              0.5555555555555556,
              "#d8576b"
             ],
             [
              0.6666666666666666,
              "#ed7953"
             ],
             [
              0.7777777777777778,
              "#fb9f3a"
             ],
             [
              0.8888888888888888,
              "#fdca26"
             ],
             [
              1,
              "#f0f921"
             ]
            ],
            "type": "heatmapgl"
           }
          ],
          "histogram": [
           {
            "marker": {
             "pattern": {
              "fillmode": "overlay",
              "size": 10,
              "solidity": 0.2
             }
            },
            "type": "histogram"
           }
          ],
          "histogram2d": [
           {
            "colorbar": {
             "outlinewidth": 0,
             "ticks": ""
            },
            "colorscale": [
             [
              0,
              "#0d0887"
             ],
             [
              0.1111111111111111,
              "#46039f"
             ],
             [
              0.2222222222222222,
              "#7201a8"
             ],
             [
              0.3333333333333333,
              "#9c179e"
             ],
             [
              0.4444444444444444,
              "#bd3786"
             ],
             [
              0.5555555555555556,
              "#d8576b"
             ],
             [
              0.6666666666666666,
              "#ed7953"
             ],
             [
              0.7777777777777778,
              "#fb9f3a"
             ],
             [
              0.8888888888888888,
              "#fdca26"
             ],
             [
              1,
              "#f0f921"
             ]
            ],
            "type": "histogram2d"
           }
          ],
          "histogram2dcontour": [
           {
            "colorbar": {
             "outlinewidth": 0,
             "ticks": ""
            },
            "colorscale": [
             [
              0,
              "#0d0887"
             ],
             [
              0.1111111111111111,
              "#46039f"
             ],
             [
              0.2222222222222222,
              "#7201a8"
             ],
             [
              0.3333333333333333,
              "#9c179e"
             ],
             [
              0.4444444444444444,
              "#bd3786"
             ],
             [
              0.5555555555555556,
              "#d8576b"
             ],
             [
              0.6666666666666666,
              "#ed7953"
             ],
             [
              0.7777777777777778,
              "#fb9f3a"
             ],
             [
              0.8888888888888888,
              "#fdca26"
             ],
             [
              1,
              "#f0f921"
             ]
            ],
            "type": "histogram2dcontour"
           }
          ],
          "mesh3d": [
           {
            "colorbar": {
             "outlinewidth": 0,
             "ticks": ""
            },
            "type": "mesh3d"
           }
          ],
          "parcoords": [
           {
            "line": {
             "colorbar": {
              "outlinewidth": 0,
              "ticks": ""
             }
            },
            "type": "parcoords"
           }
          ],
          "pie": [
           {
            "automargin": true,
            "type": "pie"
           }
          ],
          "scatter": [
           {
            "marker": {
             "colorbar": {
              "outlinewidth": 0,
              "ticks": ""
             }
            },
            "type": "scatter"
           }
          ],
          "scatter3d": [
           {
            "line": {
             "colorbar": {
              "outlinewidth": 0,
              "ticks": ""
             }
            },
            "marker": {
             "colorbar": {
              "outlinewidth": 0,
              "ticks": ""
             }
            },
            "type": "scatter3d"
           }
          ],
          "scattercarpet": [
           {
            "marker": {
             "colorbar": {
              "outlinewidth": 0,
              "ticks": ""
             }
            },
            "type": "scattercarpet"
           }
          ],
          "scattergeo": [
           {
            "marker": {
             "colorbar": {
              "outlinewidth": 0,
              "ticks": ""
             }
            },
            "type": "scattergeo"
           }
          ],
          "scattergl": [
           {
            "marker": {
             "colorbar": {
              "outlinewidth": 0,
              "ticks": ""
             }
            },
            "type": "scattergl"
           }
          ],
          "scattermapbox": [
           {
            "marker": {
             "colorbar": {
              "outlinewidth": 0,
              "ticks": ""
             }
            },
            "type": "scattermapbox"
           }
          ],
          "scatterpolar": [
           {
            "marker": {
             "colorbar": {
              "outlinewidth": 0,
              "ticks": ""
             }
            },
            "type": "scatterpolar"
           }
          ],
          "scatterpolargl": [
           {
            "marker": {
             "colorbar": {
              "outlinewidth": 0,
              "ticks": ""
             }
            },
            "type": "scatterpolargl"
           }
          ],
          "scatterternary": [
           {
            "marker": {
             "colorbar": {
              "outlinewidth": 0,
              "ticks": ""
             }
            },
            "type": "scatterternary"
           }
          ],
          "surface": [
           {
            "colorbar": {
             "outlinewidth": 0,
             "ticks": ""
            },
            "colorscale": [
             [
              0,
              "#0d0887"
             ],
             [
              0.1111111111111111,
              "#46039f"
             ],
             [
              0.2222222222222222,
              "#7201a8"
             ],
             [
              0.3333333333333333,
              "#9c179e"
             ],
             [
              0.4444444444444444,
              "#bd3786"
             ],
             [
              0.5555555555555556,
              "#d8576b"
             ],
             [
              0.6666666666666666,
              "#ed7953"
             ],
             [
              0.7777777777777778,
              "#fb9f3a"
             ],
             [
              0.8888888888888888,
              "#fdca26"
             ],
             [
              1,
              "#f0f921"
             ]
            ],
            "type": "surface"
           }
          ],
          "table": [
           {
            "cells": {
             "fill": {
              "color": "#EBF0F8"
             },
             "line": {
              "color": "white"
             }
            },
            "header": {
             "fill": {
              "color": "#C8D4E3"
             },
             "line": {
              "color": "white"
             }
            },
            "type": "table"
           }
          ]
         },
         "layout": {
          "annotationdefaults": {
           "arrowcolor": "#2a3f5f",
           "arrowhead": 0,
           "arrowwidth": 1
          },
          "autotypenumbers": "strict",
          "coloraxis": {
           "colorbar": {
            "outlinewidth": 0,
            "ticks": ""
           }
          },
          "colorscale": {
           "diverging": [
            [
             0,
             "#8e0152"
            ],
            [
             0.1,
             "#c51b7d"
            ],
            [
             0.2,
             "#de77ae"
            ],
            [
             0.3,
             "#f1b6da"
            ],
            [
             0.4,
             "#fde0ef"
            ],
            [
             0.5,
             "#f7f7f7"
            ],
            [
             0.6,
             "#e6f5d0"
            ],
            [
             0.7,
             "#b8e186"
            ],
            [
             0.8,
             "#7fbc41"
            ],
            [
             0.9,
             "#4d9221"
            ],
            [
             1,
             "#276419"
            ]
           ],
           "sequential": [
            [
             0,
             "#0d0887"
            ],
            [
             0.1111111111111111,
             "#46039f"
            ],
            [
             0.2222222222222222,
             "#7201a8"
            ],
            [
             0.3333333333333333,
             "#9c179e"
            ],
            [
             0.4444444444444444,
             "#bd3786"
            ],
            [
             0.5555555555555556,
             "#d8576b"
            ],
            [
             0.6666666666666666,
             "#ed7953"
            ],
            [
             0.7777777777777778,
             "#fb9f3a"
            ],
            [
             0.8888888888888888,
             "#fdca26"
            ],
            [
             1,
             "#f0f921"
            ]
           ],
           "sequentialminus": [
            [
             0,
             "#0d0887"
            ],
            [
             0.1111111111111111,
             "#46039f"
            ],
            [
             0.2222222222222222,
             "#7201a8"
            ],
            [
             0.3333333333333333,
             "#9c179e"
            ],
            [
             0.4444444444444444,
             "#bd3786"
            ],
            [
             0.5555555555555556,
             "#d8576b"
            ],
            [
             0.6666666666666666,
             "#ed7953"
            ],
            [
             0.7777777777777778,
             "#fb9f3a"
            ],
            [
             0.8888888888888888,
             "#fdca26"
            ],
            [
             1,
             "#f0f921"
            ]
           ]
          },
          "colorway": [
           "#636efa",
           "#EF553B",
           "#00cc96",
           "#ab63fa",
           "#FFA15A",
           "#19d3f3",
           "#FF6692",
           "#B6E880",
           "#FF97FF",
           "#FECB52"
          ],
          "font": {
           "color": "#2a3f5f"
          },
          "geo": {
           "bgcolor": "white",
           "lakecolor": "white",
           "landcolor": "#E5ECF6",
           "showlakes": true,
           "showland": true,
           "subunitcolor": "white"
          },
          "hoverlabel": {
           "align": "left"
          },
          "hovermode": "closest",
          "mapbox": {
           "style": "light"
          },
          "paper_bgcolor": "white",
          "plot_bgcolor": "#E5ECF6",
          "polar": {
           "angularaxis": {
            "gridcolor": "white",
            "linecolor": "white",
            "ticks": ""
           },
           "bgcolor": "#E5ECF6",
           "radialaxis": {
            "gridcolor": "white",
            "linecolor": "white",
            "ticks": ""
           }
          },
          "scene": {
           "xaxis": {
            "backgroundcolor": "#E5ECF6",
            "gridcolor": "white",
            "gridwidth": 2,
            "linecolor": "white",
            "showbackground": true,
            "ticks": "",
            "zerolinecolor": "white"
           },
           "yaxis": {
            "backgroundcolor": "#E5ECF6",
            "gridcolor": "white",
            "gridwidth": 2,
            "linecolor": "white",
            "showbackground": true,
            "ticks": "",
            "zerolinecolor": "white"
           },
           "zaxis": {
            "backgroundcolor": "#E5ECF6",
            "gridcolor": "white",
            "gridwidth": 2,
            "linecolor": "white",
            "showbackground": true,
            "ticks": "",
            "zerolinecolor": "white"
           }
          },
          "shapedefaults": {
           "line": {
            "color": "#2a3f5f"
           }
          },
          "ternary": {
           "aaxis": {
            "gridcolor": "white",
            "linecolor": "white",
            "ticks": ""
           },
           "baxis": {
            "gridcolor": "white",
            "linecolor": "white",
            "ticks": ""
           },
           "bgcolor": "#E5ECF6",
           "caxis": {
            "gridcolor": "white",
            "linecolor": "white",
            "ticks": ""
           }
          },
          "title": {
           "x": 0.05
          },
          "xaxis": {
           "automargin": true,
           "gridcolor": "white",
           "linecolor": "white",
           "ticks": "",
           "title": {
            "standoff": 15
           },
           "zerolinecolor": "white",
           "zerolinewidth": 2
          },
          "yaxis": {
           "automargin": true,
           "gridcolor": "white",
           "linecolor": "white",
           "ticks": "",
           "title": {
            "standoff": 15
           },
           "zerolinecolor": "white",
           "zerolinewidth": 2
          }
         }
        },
        "title": {
         "font": {
          "color": "black",
          "size": 20
         }
        },
        "width": 400,
        "xaxis": {
         "exponentformat": "power",
         "range": [
          2.8,
          3.05
         ],
         "showgrid": false,
         "showticklabels": true,
         "tickangle": 0,
         "tickcolor": "#000",
         "tickfont": {
          "color": "black",
          "size": 12
         },
         "ticks": "outside",
         "tickvals": [
          600,
          700,
          800,
          900,
          1000,
          1100
         ],
         "tickwidth": 1.5,
         "title": {
          "font": {
           "color": "black",
           "size": 16
          },
          "text": "copies/mL"
         },
         "type": "log",
         "zerolinecolor": "#000",
         "zerolinewidth": 2
        },
        "yaxis": {
         "exponentformat": "none",
         "range": [
          28,
          30
         ],
         "rangemode": "tozero",
         "showexponent": "all",
         "showticklabels": true,
         "tickangle": 0,
         "tickcolor": "#000",
         "tickfont": {
          "color": "black",
          "size": 12
         },
         "ticks": "outside",
         "tickvals": [
          28,
          29,
          30
         ],
         "tickwidth": 1.5,
         "title": {
          "font": {
           "color": "black",
           "size": 16
          },
          "text": "Ct"
         },
         "zerolinecolor": "#000",
         "zerolinewidth": 2
        }
       }
      }
     },
     "metadata": {},
     "output_type": "display_data"
    }
   ],
   "source": [
    "# zoomed in graph of the prediction intervals of the yupper, ylower, xupper and xlower values and their corresponding intercepts\n",
    "\n",
    "fig= go.Figure(data=trace, layout=layout)\n",
    "fig.update_layout(showlegend=False)\n",
    "\n",
    "\n",
    "fig.update_layout(yaxis=dict(\n",
    "        range=[28, 30],\n",
    "        tickvals=[28, 29, 30],\n",
    "    ),\n",
    "    xaxis=dict(\n",
    "        range=[2.8, 3.05],\n",
    "        tickvals=[600, 700, 800, 900,1000,1100]\n",
    "    ))\n",
    "\n",
    "fig.show()\n",
    "fig.write_image('images/ypred_zoom.svg', engine=\"kaleido\",scale=1)"
   ]
  }
 ],
 "metadata": {
  "kernelspec": {
   "display_name": "Python 3.9.6 64-bit",
   "language": "python",
   "name": "python3"
  },
  "language_info": {
   "codemirror_mode": {
    "name": "ipython",
    "version": 3
   },
   "file_extension": ".py",
   "mimetype": "text/x-python",
   "name": "python",
   "nbconvert_exporter": "python",
   "pygments_lexer": "ipython3",
   "version": "3.9.9"
  },
  "orig_nbformat": 2,
  "vscode": {
   "interpreter": {
    "hash": "aee8b7b246df8f9039afb4144a1f6fd8d2ca17a180786b69acc140d282b71a49"
   }
  }
 },
 "nbformat": 4,
 "nbformat_minor": 2
}
